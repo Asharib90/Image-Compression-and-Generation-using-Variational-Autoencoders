{
  "nbformat": 4,
  "nbformat_minor": 0,
  "metadata": {
    "colab": {
      "name": "imageCompression.ipynb",
      "provenance": [],
      "collapsed_sections": []
    },
    "kernelspec": {
      "name": "python3",
      "display_name": "Python 3"
    },
    "accelerator": "GPU",
    "widgets": {
      "application/vnd.jupyter.widget-state+json": {
        "4ab247ca6a014fa0aaf456c28f65f85b": {
          "model_module": "@jupyter-widgets/controls",
          "model_name": "HBoxModel",
          "state": {
            "_view_name": "HBoxView",
            "_dom_classes": [],
            "_model_name": "HBoxModel",
            "_view_module": "@jupyter-widgets/controls",
            "_model_module_version": "1.5.0",
            "_view_count": null,
            "_view_module_version": "1.5.0",
            "box_style": "",
            "layout": "IPY_MODEL_a400a2e895c8455ba88eb5966f729aac",
            "_model_module": "@jupyter-widgets/controls",
            "children": [
              "IPY_MODEL_b81aa544e1494b95a09397eba98bde10",
              "IPY_MODEL_87675baa3e134d0db89082ac72f9fe19"
            ]
          }
        },
        "a400a2e895c8455ba88eb5966f729aac": {
          "model_module": "@jupyter-widgets/base",
          "model_name": "LayoutModel",
          "state": {
            "_view_name": "LayoutView",
            "grid_template_rows": null,
            "right": null,
            "justify_content": null,
            "_view_module": "@jupyter-widgets/base",
            "overflow": null,
            "_model_module_version": "1.2.0",
            "_view_count": null,
            "flex_flow": null,
            "width": null,
            "min_width": null,
            "border": null,
            "align_items": null,
            "bottom": null,
            "_model_module": "@jupyter-widgets/base",
            "top": null,
            "grid_column": null,
            "overflow_y": null,
            "overflow_x": null,
            "grid_auto_flow": null,
            "grid_area": null,
            "grid_template_columns": null,
            "flex": null,
            "_model_name": "LayoutModel",
            "justify_items": null,
            "grid_row": null,
            "max_height": null,
            "align_content": null,
            "visibility": null,
            "align_self": null,
            "height": null,
            "min_height": null,
            "padding": null,
            "grid_auto_rows": null,
            "grid_gap": null,
            "max_width": null,
            "order": null,
            "_view_module_version": "1.2.0",
            "grid_template_areas": null,
            "object_position": null,
            "object_fit": null,
            "grid_auto_columns": null,
            "margin": null,
            "display": null,
            "left": null
          }
        },
        "b81aa544e1494b95a09397eba98bde10": {
          "model_module": "@jupyter-widgets/controls",
          "model_name": "FloatProgressModel",
          "state": {
            "_view_name": "ProgressView",
            "style": "IPY_MODEL_2867b4cc280e4bdf92539fa7f7153e6a",
            "_dom_classes": [],
            "description": "100%",
            "_model_name": "FloatProgressModel",
            "bar_style": "success",
            "max": 68,
            "_view_module": "@jupyter-widgets/controls",
            "_model_module_version": "1.5.0",
            "value": 68,
            "_view_count": null,
            "_view_module_version": "1.5.0",
            "orientation": "horizontal",
            "min": 0,
            "description_tooltip": null,
            "_model_module": "@jupyter-widgets/controls",
            "layout": "IPY_MODEL_ac856b0901d94fd887499e4c1ffc7e60"
          }
        },
        "87675baa3e134d0db89082ac72f9fe19": {
          "model_module": "@jupyter-widgets/controls",
          "model_name": "HTMLModel",
          "state": {
            "_view_name": "HTMLView",
            "style": "IPY_MODEL_53278a2c74ab49469e8f68b5d5fc0f3b",
            "_dom_classes": [],
            "description": "",
            "_model_name": "HTMLModel",
            "placeholder": "​",
            "_view_module": "@jupyter-widgets/controls",
            "_model_module_version": "1.5.0",
            "value": " 68/68 [11:31&lt;00:00, 10.17s/it]",
            "_view_count": null,
            "_view_module_version": "1.5.0",
            "description_tooltip": null,
            "_model_module": "@jupyter-widgets/controls",
            "layout": "IPY_MODEL_ba91236b665e4f44a2ae8abcc77eb86f"
          }
        },
        "2867b4cc280e4bdf92539fa7f7153e6a": {
          "model_module": "@jupyter-widgets/controls",
          "model_name": "ProgressStyleModel",
          "state": {
            "_view_name": "StyleView",
            "_model_name": "ProgressStyleModel",
            "description_width": "initial",
            "_view_module": "@jupyter-widgets/base",
            "_model_module_version": "1.5.0",
            "_view_count": null,
            "_view_module_version": "1.2.0",
            "bar_color": null,
            "_model_module": "@jupyter-widgets/controls"
          }
        },
        "ac856b0901d94fd887499e4c1ffc7e60": {
          "model_module": "@jupyter-widgets/base",
          "model_name": "LayoutModel",
          "state": {
            "_view_name": "LayoutView",
            "grid_template_rows": null,
            "right": null,
            "justify_content": null,
            "_view_module": "@jupyter-widgets/base",
            "overflow": null,
            "_model_module_version": "1.2.0",
            "_view_count": null,
            "flex_flow": null,
            "width": null,
            "min_width": null,
            "border": null,
            "align_items": null,
            "bottom": null,
            "_model_module": "@jupyter-widgets/base",
            "top": null,
            "grid_column": null,
            "overflow_y": null,
            "overflow_x": null,
            "grid_auto_flow": null,
            "grid_area": null,
            "grid_template_columns": null,
            "flex": null,
            "_model_name": "LayoutModel",
            "justify_items": null,
            "grid_row": null,
            "max_height": null,
            "align_content": null,
            "visibility": null,
            "align_self": null,
            "height": null,
            "min_height": null,
            "padding": null,
            "grid_auto_rows": null,
            "grid_gap": null,
            "max_width": null,
            "order": null,
            "_view_module_version": "1.2.0",
            "grid_template_areas": null,
            "object_position": null,
            "object_fit": null,
            "grid_auto_columns": null,
            "margin": null,
            "display": null,
            "left": null
          }
        },
        "53278a2c74ab49469e8f68b5d5fc0f3b": {
          "model_module": "@jupyter-widgets/controls",
          "model_name": "DescriptionStyleModel",
          "state": {
            "_view_name": "StyleView",
            "_model_name": "DescriptionStyleModel",
            "description_width": "",
            "_view_module": "@jupyter-widgets/base",
            "_model_module_version": "1.5.0",
            "_view_count": null,
            "_view_module_version": "1.2.0",
            "_model_module": "@jupyter-widgets/controls"
          }
        },
        "ba91236b665e4f44a2ae8abcc77eb86f": {
          "model_module": "@jupyter-widgets/base",
          "model_name": "LayoutModel",
          "state": {
            "_view_name": "LayoutView",
            "grid_template_rows": null,
            "right": null,
            "justify_content": null,
            "_view_module": "@jupyter-widgets/base",
            "overflow": null,
            "_model_module_version": "1.2.0",
            "_view_count": null,
            "flex_flow": null,
            "width": null,
            "min_width": null,
            "border": null,
            "align_items": null,
            "bottom": null,
            "_model_module": "@jupyter-widgets/base",
            "top": null,
            "grid_column": null,
            "overflow_y": null,
            "overflow_x": null,
            "grid_auto_flow": null,
            "grid_area": null,
            "grid_template_columns": null,
            "flex": null,
            "_model_name": "LayoutModel",
            "justify_items": null,
            "grid_row": null,
            "max_height": null,
            "align_content": null,
            "visibility": null,
            "align_self": null,
            "height": null,
            "min_height": null,
            "padding": null,
            "grid_auto_rows": null,
            "grid_gap": null,
            "max_width": null,
            "order": null,
            "_view_module_version": "1.2.0",
            "grid_template_areas": null,
            "object_position": null,
            "object_fit": null,
            "grid_auto_columns": null,
            "margin": null,
            "display": null,
            "left": null
          }
        }
      }
    }
  },
  "cells": [
    {
      "cell_type": "code",
      "metadata": {
        "id": "2FvYl27tRk3-",
        "outputId": "128f1c10-01b7-4fd0-a9d9-8957e4e768d5",
        "colab": {
          "base_uri": "https://localhost:8080/"
        }
      },
      "source": [
        "import tensorflow as tf\n",
        "\n",
        "device_name = tf.test.gpu_device_name()\n",
        "if device_name != '/device:GPU:0':\n",
        "   raise SystemError('GPU device not found')\n",
        "print('Found GPU at: {}'.format(device_name))"
      ],
      "execution_count": 1,
      "outputs": [
        {
          "output_type": "stream",
          "text": [
            "Found GPU at: /device:GPU:0\n"
          ],
          "name": "stdout"
        }
      ]
    },
    {
      "cell_type": "code",
      "metadata": {
        "id": "rvOgcAbTRm4X",
        "outputId": "61402a87-b90c-40ba-be8c-110158b0e1a6",
        "colab": {
          "base_uri": "https://localhost:8080/"
        }
      },
      "source": [
        "# memory footprint support libraries/code\n",
        "!ln -sf /opt/bin/nvidia-smi /usr/bin/nvidia-smi\n",
        "!pip install gputil\n",
        "!pip install psutil\n",
        "!pip install humanize\n",
        "import psutil\n",
        "import humanize\n",
        "import os\n",
        "import GPUtil as GPU\n",
        "GPUs = GPU.getGPUs()\n",
        "# XXX: only one GPU on Colab and isn’t guaranteed\n",
        "gpu = GPUs[0]\n",
        "def printm():\n",
        " process = psutil.Process(os.getpid())\n",
        " print(\"Gen RAM Free: \" + humanize.naturalsize( psutil.virtual_memory().available ), \" | Proc size: \" + humanize.naturalsize( process.memory_info().rss))\n",
        " print(\"GPU RAM Free: {0:.0f}MB | Used: {1:.0f}MB | Util {2:3.0f}% | Total {3:.0f}MB\".format(gpu.memoryFree, gpu.memoryUsed, gpu.memoryUtil*100, gpu.memoryTotal))\n",
        "printm() "
      ],
      "execution_count": 2,
      "outputs": [
        {
          "output_type": "stream",
          "text": [
            "Collecting gputil\n",
            "  Downloading https://files.pythonhosted.org/packages/ed/0e/5c61eedde9f6c87713e89d794f01e378cfd9565847d4576fa627d758c554/GPUtil-1.4.0.tar.gz\n",
            "Building wheels for collected packages: gputil\n",
            "  Building wheel for gputil (setup.py) ... \u001b[?25l\u001b[?25hdone\n",
            "  Created wheel for gputil: filename=GPUtil-1.4.0-cp36-none-any.whl size=7411 sha256=3c38d8be7adc9e55a80947debb31697a56d92cfb19ffc2ebfd6bf853374036d2\n",
            "  Stored in directory: /root/.cache/pip/wheels/3d/77/07/80562de4bb0786e5ea186911a2c831fdd0018bda69beab71fd\n",
            "Successfully built gputil\n",
            "Installing collected packages: gputil\n",
            "Successfully installed gputil-1.4.0\n",
            "Requirement already satisfied: psutil in /usr/local/lib/python3.6/dist-packages (5.4.8)\n",
            "Requirement already satisfied: humanize in /usr/local/lib/python3.6/dist-packages (0.5.1)\n",
            "Gen RAM Free: 12.4 GB  | Proc size: 870.2 MB\n",
            "GPU RAM Free: 11307MB | Used: 134MB | Util   1% | Total 11441MB\n"
          ],
          "name": "stdout"
        }
      ]
    },
    {
      "cell_type": "code",
      "metadata": {
        "id": "1Qrp77fTR58e",
        "outputId": "a42db1e4-60a8-4527-d3b4-7d1a9da06310",
        "colab": {
          "base_uri": "https://localhost:8080/"
        }
      },
      "source": [
        "\n",
        "import time, psutil\n",
        "Start = time.time()- psutil.boot_time()\n",
        "Left= 12*3600 - Start\n",
        "print('Time remaining for this session is: ', Left/3600)"
      ],
      "execution_count": 3,
      "outputs": [
        {
          "output_type": "stream",
          "text": [
            "Time remaining for this session is:  11.67498997370402\n"
          ],
          "name": "stdout"
        }
      ]
    },
    {
      "cell_type": "code",
      "metadata": {
        "id": "8MKUxx-XR5_3",
        "outputId": "2f6f3d40-be91-42e2-9721-701644888a4e",
        "colab": {
          "base_uri": "https://localhost:8080/"
        }
      },
      "source": [
        "from google.colab import drive\n",
        "drive.mount('/content/gdrive')\n",
        "\n",
        "# change to working tensorflow directory on the drive\n",
        "%cd '/content/gdrive/My Drive/Image_compression/'"
      ],
      "execution_count": 54,
      "outputs": [
        {
          "output_type": "stream",
          "text": [
            "Drive already mounted at /content/gdrive; to attempt to forcibly remount, call drive.mount(\"/content/gdrive\", force_remount=True).\n",
            "/content/gdrive/My Drive/Image_compression\n"
          ],
          "name": "stdout"
        }
      ]
    },
    {
      "cell_type": "markdown",
      "metadata": {
        "id": "NV2g90kaQb5b"
      },
      "source": [
        "Convert CSVs into Images"
      ]
    },
    {
      "cell_type": "code",
      "metadata": {
        "id": "-QyIDBiTm6Wx"
      },
      "source": [
        "import torch\n",
        "import torch.utils.data\n",
        "from torch import nn, optim\n",
        "from torch.nn import functional as F\n",
        "from torchvision import datasets, transforms\n",
        "from torchvision.utils import save_image\n",
        "\n",
        "from tqdm.notebook import tqdm\n",
        "import cv2\n",
        "import os\n",
        "import shutil\n",
        "import random\n",
        "random.seed(5)\n",
        "\n",
        "import matplotlib\n",
        "%matplotlib inline\n",
        "%config InlineBackend.figure_format = 'svg'\n",
        "import matplotlib.pyplot as plt\n",
        "plt.style.use('ggplot')\n",
        "\n",
        "import numpy as np\n",
        "import pandas as pd"
      ],
      "execution_count": 55,
      "outputs": []
    },
    {
      "cell_type": "code",
      "metadata": {
        "id": "MaW058uyR557"
      },
      "source": [
        "styles_name = os.listdir('fonts')\n",
        "path='image'\n",
        "for name in styles_name:\n",
        "    \n",
        "#     read the file\n",
        "    data = pd.read_csv(f'fonts/{name}')\n",
        "    \n",
        "#     reshape \n",
        "    image_data=data.iloc[:,12:]\n",
        "    image_data = image_data.to_numpy()\n",
        "    image_data = image_data.reshape(len(data.index),20,20)\n",
        "    \n",
        "#     creting dir\n",
        "    folder_path = os.path.join(path, name[:-4])\n",
        "    os.system('mkdir {}'.format(folder_path))\n",
        "\n",
        "    \n",
        "#     saving image\n",
        "\n",
        "    for i in range(0,len(data.index)):\n",
        "        img_name = f'{i}.jpg'        \n",
        "        img_path = os.path.join(folder_path,img_name)        \n",
        "        cv2.imwrite(img_path, image_data[i])        "
      ],
      "execution_count": null,
      "outputs": []
    },
    {
      "cell_type": "code",
      "metadata": {
        "id": "NFzvJp0jm-lI",
        "outputId": "ae6fccc2-212a-4e17-fa5d-f1f7ecbd4379",
        "colab": {
          "base_uri": "https://localhost:8080/"
        }
      },
      "source": [
        "epochs = 1000\n",
        "batch_size = 64\n",
        "torch.manual_seed(17)"
      ],
      "execution_count": 56,
      "outputs": [
        {
          "output_type": "execute_result",
          "data": {
            "text/plain": [
              "<torch._C.Generator at 0x7f3773f73c60>"
            ]
          },
          "metadata": {
            "tags": []
          },
          "execution_count": 56
        }
      ]
    },
    {
      "cell_type": "code",
      "metadata": {
        "id": "aH4oNmWgnI-M"
      },
      "source": [
        "def show_img(img):\n",
        "    img = img.permute(1, 2, 0)\n",
        "    if img.shape[2]==1:\n",
        "        img = img.view(img.shape[0], img.shape[1])\n",
        "    plt.title(f'Image has size {img.cpu().numpy().shape}')\n",
        "    plt.imshow(img , cmap='gray')\n",
        "    plt.axis('off')\n",
        "    plt.show()"
      ],
      "execution_count": 57,
      "outputs": []
    },
    {
      "cell_type": "code",
      "metadata": {
        "id": "Sd_d8CNInK6H"
      },
      "source": [
        "transforms_all = transforms.Compose([\n",
        "  transforms.Grayscale(num_output_channels=1),\n",
        "  transforms.Resize(size=50),\n",
        "  transforms.ToTensor()\n",
        "    \n",
        "])\n",
        "\n",
        "dummy_batch = torch.utils.data.DataLoader(\n",
        "    datasets.ImageFolder('image/', transform=transforms.ToTensor()),\n",
        "    batch_size=1,\n",
        "    shuffle=True\n",
        ")"
      ],
      "execution_count": 58,
      "outputs": []
    },
    {
      "cell_type": "code",
      "metadata": {
        "id": "4O1OSyZSnW8S",
        "outputId": "2813bee4-77c3-463a-dfb7-a7d4553c215c",
        "colab": {
          "base_uri": "https://localhost:8080/",
          "height": 689
        }
      },
      "source": [
        "for batch in dummy_batch:\n",
        "    original_image = batch[0][0]\n",
        "    show_img(original_image)\n",
        "    show_img(transforms_all(transforms.ToPILImage()(original_image)))\n",
        "    break"
      ],
      "execution_count": 59,
      "outputs": [
        {
          "output_type": "display_data",
          "data": {
            "text/plain": [
              "<Figure size 432x288 with 1 Axes>"
            ],
            "image/svg+xml": "<?xml version=\"1.0\" encoding=\"utf-8\" standalone=\"no\"?>\n<!DOCTYPE svg PUBLIC \"-//W3C//DTD SVG 1.1//EN\"\n  \"http://www.w3.org/Graphics/SVG/1.1/DTD/svg11.dtd\">\n<!-- Created with matplotlib (https://matplotlib.org/) -->\n<svg height=\"248.78175pt\" version=\"1.1\" viewBox=\"0 0 231.84 248.78175\" width=\"231.84pt\" xmlns=\"http://www.w3.org/2000/svg\" xmlns:xlink=\"http://www.w3.org/1999/xlink\">\n <defs>\n  <style type=\"text/css\">\n*{stroke-linecap:butt;stroke-linejoin:round;}\n  </style>\n </defs>\n <g id=\"figure_1\">\n  <g id=\"patch_1\">\n   <path d=\"M 0 248.78175 \nL 231.84 248.78175 \nL 231.84 0 \nL 0 0 \nz\n\" style=\"fill:#ffffff;\"/>\n  </g>\n  <g id=\"axes_1\">\n   <g clip-path=\"url(#p78883cdd2a)\">\n    <image height=\"218\" id=\"imagec21f136ff6\" transform=\"scale(1 -1)translate(0 -218)\" width=\"218\" x=\"7.2\" xlink:href=\"data:image/png;base64,\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\" y=\"-23.58175\"/>\n   </g>\n   <g id=\"text_1\">\n    <!-- Image has size (20, 20, 3) -->\n    <defs>\n     <path d=\"M 9.8125 72.90625 \nL 19.671875 72.90625 \nL 19.671875 0 \nL 9.8125 0 \nz\n\" id=\"DejaVuSans-73\"/>\n     <path d=\"M 52 44.1875 \nQ 55.375 50.25 60.0625 53.125 \nQ 64.75 56 71.09375 56 \nQ 79.640625 56 84.28125 50.015625 \nQ 88.921875 44.046875 88.921875 33.015625 \nL 88.921875 0 \nL 79.890625 0 \nL 79.890625 32.71875 \nQ 79.890625 40.578125 77.09375 44.375 \nQ 74.3125 48.1875 68.609375 48.1875 \nQ 61.625 48.1875 57.5625 43.546875 \nQ 53.515625 38.921875 53.515625 30.90625 \nL 53.515625 0 \nL 44.484375 0 \nL 44.484375 32.71875 \nQ 44.484375 40.625 41.703125 44.40625 \nQ 38.921875 48.1875 33.109375 48.1875 \nQ 26.21875 48.1875 22.15625 43.53125 \nQ 18.109375 38.875 18.109375 30.90625 \nL 18.109375 0 \nL 9.078125 0 \nL 9.078125 54.6875 \nL 18.109375 54.6875 \nL 18.109375 46.1875 \nQ 21.1875 51.21875 25.484375 53.609375 \nQ 29.78125 56 35.6875 56 \nQ 41.65625 56 45.828125 52.96875 \nQ 50 49.953125 52 44.1875 \nz\n\" id=\"DejaVuSans-109\"/>\n     <path d=\"M 34.28125 27.484375 \nQ 23.390625 27.484375 19.1875 25 \nQ 14.984375 22.515625 14.984375 16.5 \nQ 14.984375 11.71875 18.140625 8.90625 \nQ 21.296875 6.109375 26.703125 6.109375 \nQ 34.1875 6.109375 38.703125 11.40625 \nQ 43.21875 16.703125 43.21875 25.484375 \nL 43.21875 27.484375 \nz\nM 52.203125 31.203125 \nL 52.203125 0 \nL 43.21875 0 \nL 43.21875 8.296875 \nQ 40.140625 3.328125 35.546875 0.953125 \nQ 30.953125 -1.421875 24.3125 -1.421875 \nQ 15.921875 -1.421875 10.953125 3.296875 \nQ 6 8.015625 6 15.921875 \nQ 6 25.140625 12.171875 29.828125 \nQ 18.359375 34.515625 30.609375 34.515625 \nL 43.21875 34.515625 \nL 43.21875 35.40625 \nQ 43.21875 41.609375 39.140625 45 \nQ 35.0625 48.390625 27.6875 48.390625 \nQ 23 48.390625 18.546875 47.265625 \nQ 14.109375 46.140625 10.015625 43.890625 \nL 10.015625 52.203125 \nQ 14.9375 54.109375 19.578125 55.046875 \nQ 24.21875 56 28.609375 56 \nQ 40.484375 56 46.34375 49.84375 \nQ 52.203125 43.703125 52.203125 31.203125 \nz\n\" id=\"DejaVuSans-97\"/>\n     <path d=\"M 45.40625 27.984375 \nQ 45.40625 37.75 41.375 43.109375 \nQ 37.359375 48.484375 30.078125 48.484375 \nQ 22.859375 48.484375 18.828125 43.109375 \nQ 14.796875 37.75 14.796875 27.984375 \nQ 14.796875 18.265625 18.828125 12.890625 \nQ 22.859375 7.515625 30.078125 7.515625 \nQ 37.359375 7.515625 41.375 12.890625 \nQ 45.40625 18.265625 45.40625 27.984375 \nz\nM 54.390625 6.78125 \nQ 54.390625 -7.171875 48.1875 -13.984375 \nQ 42 -20.796875 29.203125 -20.796875 \nQ 24.46875 -20.796875 20.265625 -20.09375 \nQ 16.0625 -19.390625 12.109375 -17.921875 \nL 12.109375 -9.1875 \nQ 16.0625 -11.328125 19.921875 -12.34375 \nQ 23.78125 -13.375 27.78125 -13.375 \nQ 36.625 -13.375 41.015625 -8.765625 \nQ 45.40625 -4.15625 45.40625 5.171875 \nL 45.40625 9.625 \nQ 42.625 4.78125 38.28125 2.390625 \nQ 33.9375 0 27.875 0 \nQ 17.828125 0 11.671875 7.65625 \nQ 5.515625 15.328125 5.515625 27.984375 \nQ 5.515625 40.671875 11.671875 48.328125 \nQ 17.828125 56 27.875 56 \nQ 33.9375 56 38.28125 53.609375 \nQ 42.625 51.21875 45.40625 46.390625 \nL 45.40625 54.6875 \nL 54.390625 54.6875 \nz\n\" id=\"DejaVuSans-103\"/>\n     <path d=\"M 56.203125 29.59375 \nL 56.203125 25.203125 \nL 14.890625 25.203125 \nQ 15.484375 15.921875 20.484375 11.0625 \nQ 25.484375 6.203125 34.421875 6.203125 \nQ 39.59375 6.203125 44.453125 7.46875 \nQ 49.3125 8.734375 54.109375 11.28125 \nL 54.109375 2.78125 \nQ 49.265625 0.734375 44.1875 -0.34375 \nQ 39.109375 -1.421875 33.890625 -1.421875 \nQ 20.796875 -1.421875 13.15625 6.1875 \nQ 5.515625 13.8125 5.515625 26.8125 \nQ 5.515625 40.234375 12.765625 48.109375 \nQ 20.015625 56 32.328125 56 \nQ 43.359375 56 49.78125 48.890625 \nQ 56.203125 41.796875 56.203125 29.59375 \nz\nM 47.21875 32.234375 \nQ 47.125 39.59375 43.09375 43.984375 \nQ 39.0625 48.390625 32.421875 48.390625 \nQ 24.90625 48.390625 20.390625 44.140625 \nQ 15.875 39.890625 15.1875 32.171875 \nz\n\" id=\"DejaVuSans-101\"/>\n     <path id=\"DejaVuSans-32\"/>\n     <path d=\"M 54.890625 33.015625 \nL 54.890625 0 \nL 45.90625 0 \nL 45.90625 32.71875 \nQ 45.90625 40.484375 42.875 44.328125 \nQ 39.84375 48.1875 33.796875 48.1875 \nQ 26.515625 48.1875 22.3125 43.546875 \nQ 18.109375 38.921875 18.109375 30.90625 \nL 18.109375 0 \nL 9.078125 0 \nL 9.078125 75.984375 \nL 18.109375 75.984375 \nL 18.109375 46.1875 \nQ 21.34375 51.125 25.703125 53.5625 \nQ 30.078125 56 35.796875 56 \nQ 45.21875 56 50.046875 50.171875 \nQ 54.890625 44.34375 54.890625 33.015625 \nz\n\" id=\"DejaVuSans-104\"/>\n     <path d=\"M 44.28125 53.078125 \nL 44.28125 44.578125 \nQ 40.484375 46.53125 36.375 47.5 \nQ 32.28125 48.484375 27.875 48.484375 \nQ 21.1875 48.484375 17.84375 46.4375 \nQ 14.5 44.390625 14.5 40.28125 \nQ 14.5 37.15625 16.890625 35.375 \nQ 19.28125 33.59375 26.515625 31.984375 \nL 29.59375 31.296875 \nQ 39.15625 29.25 43.1875 25.515625 \nQ 47.21875 21.78125 47.21875 15.09375 \nQ 47.21875 7.46875 41.1875 3.015625 \nQ 35.15625 -1.421875 24.609375 -1.421875 \nQ 20.21875 -1.421875 15.453125 -0.5625 \nQ 10.6875 0.296875 5.421875 2 \nL 5.421875 11.28125 \nQ 10.40625 8.6875 15.234375 7.390625 \nQ 20.0625 6.109375 24.8125 6.109375 \nQ 31.15625 6.109375 34.5625 8.28125 \nQ 37.984375 10.453125 37.984375 14.40625 \nQ 37.984375 18.0625 35.515625 20.015625 \nQ 33.0625 21.96875 24.703125 23.78125 \nL 21.578125 24.515625 \nQ 13.234375 26.265625 9.515625 29.90625 \nQ 5.8125 33.546875 5.8125 39.890625 \nQ 5.8125 47.609375 11.28125 51.796875 \nQ 16.75 56 26.8125 56 \nQ 31.78125 56 36.171875 55.265625 \nQ 40.578125 54.546875 44.28125 53.078125 \nz\n\" id=\"DejaVuSans-115\"/>\n     <path d=\"M 9.421875 54.6875 \nL 18.40625 54.6875 \nL 18.40625 0 \nL 9.421875 0 \nz\nM 9.421875 75.984375 \nL 18.40625 75.984375 \nL 18.40625 64.59375 \nL 9.421875 64.59375 \nz\n\" id=\"DejaVuSans-105\"/>\n     <path d=\"M 5.515625 54.6875 \nL 48.1875 54.6875 \nL 48.1875 46.484375 \nL 14.40625 7.171875 \nL 48.1875 7.171875 \nL 48.1875 0 \nL 4.296875 0 \nL 4.296875 8.203125 \nL 38.09375 47.515625 \nL 5.515625 47.515625 \nz\n\" id=\"DejaVuSans-122\"/>\n     <path d=\"M 31 75.875 \nQ 24.46875 64.65625 21.28125 53.65625 \nQ 18.109375 42.671875 18.109375 31.390625 \nQ 18.109375 20.125 21.3125 9.0625 \nQ 24.515625 -2 31 -13.1875 \nL 23.1875 -13.1875 \nQ 15.875 -1.703125 12.234375 9.375 \nQ 8.59375 20.453125 8.59375 31.390625 \nQ 8.59375 42.28125 12.203125 53.3125 \nQ 15.828125 64.359375 23.1875 75.875 \nz\n\" id=\"DejaVuSans-40\"/>\n     <path d=\"M 19.1875 8.296875 \nL 53.609375 8.296875 \nL 53.609375 0 \nL 7.328125 0 \nL 7.328125 8.296875 \nQ 12.9375 14.109375 22.625 23.890625 \nQ 32.328125 33.6875 34.8125 36.53125 \nQ 39.546875 41.84375 41.421875 45.53125 \nQ 43.3125 49.21875 43.3125 52.78125 \nQ 43.3125 58.59375 39.234375 62.25 \nQ 35.15625 65.921875 28.609375 65.921875 \nQ 23.96875 65.921875 18.8125 64.3125 \nQ 13.671875 62.703125 7.8125 59.421875 \nL 7.8125 69.390625 \nQ 13.765625 71.78125 18.9375 73 \nQ 24.125 74.21875 28.421875 74.21875 \nQ 39.75 74.21875 46.484375 68.546875 \nQ 53.21875 62.890625 53.21875 53.421875 \nQ 53.21875 48.921875 51.53125 44.890625 \nQ 49.859375 40.875 45.40625 35.40625 \nQ 44.1875 33.984375 37.640625 27.21875 \nQ 31.109375 20.453125 19.1875 8.296875 \nz\n\" id=\"DejaVuSans-50\"/>\n     <path d=\"M 31.78125 66.40625 \nQ 24.171875 66.40625 20.328125 58.90625 \nQ 16.5 51.421875 16.5 36.375 \nQ 16.5 21.390625 20.328125 13.890625 \nQ 24.171875 6.390625 31.78125 6.390625 \nQ 39.453125 6.390625 43.28125 13.890625 \nQ 47.125 21.390625 47.125 36.375 \nQ 47.125 51.421875 43.28125 58.90625 \nQ 39.453125 66.40625 31.78125 66.40625 \nz\nM 31.78125 74.21875 \nQ 44.046875 74.21875 50.515625 64.515625 \nQ 56.984375 54.828125 56.984375 36.375 \nQ 56.984375 17.96875 50.515625 8.265625 \nQ 44.046875 -1.421875 31.78125 -1.421875 \nQ 19.53125 -1.421875 13.0625 8.265625 \nQ 6.59375 17.96875 6.59375 36.375 \nQ 6.59375 54.828125 13.0625 64.515625 \nQ 19.53125 74.21875 31.78125 74.21875 \nz\n\" id=\"DejaVuSans-48\"/>\n     <path d=\"M 11.71875 12.40625 \nL 22.015625 12.40625 \nL 22.015625 4 \nL 14.015625 -11.625 \nL 7.71875 -11.625 \nL 11.71875 4 \nz\n\" id=\"DejaVuSans-44\"/>\n     <path d=\"M 40.578125 39.3125 \nQ 47.65625 37.796875 51.625 33 \nQ 55.609375 28.21875 55.609375 21.1875 \nQ 55.609375 10.40625 48.1875 4.484375 \nQ 40.765625 -1.421875 27.09375 -1.421875 \nQ 22.515625 -1.421875 17.65625 -0.515625 \nQ 12.796875 0.390625 7.625 2.203125 \nL 7.625 11.71875 \nQ 11.71875 9.328125 16.59375 8.109375 \nQ 21.484375 6.890625 26.8125 6.890625 \nQ 36.078125 6.890625 40.9375 10.546875 \nQ 45.796875 14.203125 45.796875 21.1875 \nQ 45.796875 27.640625 41.28125 31.265625 \nQ 36.765625 34.90625 28.71875 34.90625 \nL 20.21875 34.90625 \nL 20.21875 43.015625 \nL 29.109375 43.015625 \nQ 36.375 43.015625 40.234375 45.921875 \nQ 44.09375 48.828125 44.09375 54.296875 \nQ 44.09375 59.90625 40.109375 62.90625 \nQ 36.140625 65.921875 28.71875 65.921875 \nQ 24.65625 65.921875 20.015625 65.03125 \nQ 15.375 64.15625 9.8125 62.3125 \nL 9.8125 71.09375 \nQ 15.4375 72.65625 20.34375 73.4375 \nQ 25.25 74.21875 29.59375 74.21875 \nQ 40.828125 74.21875 47.359375 69.109375 \nQ 53.90625 64.015625 53.90625 55.328125 \nQ 53.90625 49.265625 50.4375 45.09375 \nQ 46.96875 40.921875 40.578125 39.3125 \nz\n\" id=\"DejaVuSans-51\"/>\n     <path d=\"M 8.015625 75.875 \nL 15.828125 75.875 \nQ 23.140625 64.359375 26.78125 53.3125 \nQ 30.421875 42.28125 30.421875 31.390625 \nQ 30.421875 20.453125 26.78125 9.375 \nQ 23.140625 -1.703125 15.828125 -13.1875 \nL 8.015625 -13.1875 \nQ 14.5 -2 17.703125 9.0625 \nQ 20.90625 20.125 20.90625 31.390625 \nQ 20.90625 42.671875 17.703125 53.65625 \nQ 14.5 64.65625 8.015625 75.875 \nz\n\" id=\"DejaVuSans-41\"/>\n    </defs>\n    <g transform=\"translate(22.14225 18.14175)scale(0.144 -0.144)\">\n     <use xlink:href=\"#DejaVuSans-73\"/>\n     <use x=\"29.492188\" xlink:href=\"#DejaVuSans-109\"/>\n     <use x=\"126.904297\" xlink:href=\"#DejaVuSans-97\"/>\n     <use x=\"188.183594\" xlink:href=\"#DejaVuSans-103\"/>\n     <use x=\"251.660156\" xlink:href=\"#DejaVuSans-101\"/>\n     <use x=\"313.183594\" xlink:href=\"#DejaVuSans-32\"/>\n     <use x=\"344.970703\" xlink:href=\"#DejaVuSans-104\"/>\n     <use x=\"408.349609\" xlink:href=\"#DejaVuSans-97\"/>\n     <use x=\"469.628906\" xlink:href=\"#DejaVuSans-115\"/>\n     <use x=\"521.728516\" xlink:href=\"#DejaVuSans-32\"/>\n     <use x=\"553.515625\" xlink:href=\"#DejaVuSans-115\"/>\n     <use x=\"605.615234\" xlink:href=\"#DejaVuSans-105\"/>\n     <use x=\"633.398438\" xlink:href=\"#DejaVuSans-122\"/>\n     <use x=\"685.888672\" xlink:href=\"#DejaVuSans-101\"/>\n     <use x=\"747.412109\" xlink:href=\"#DejaVuSans-32\"/>\n     <use x=\"779.199219\" xlink:href=\"#DejaVuSans-40\"/>\n     <use x=\"818.212891\" xlink:href=\"#DejaVuSans-50\"/>\n     <use x=\"881.835938\" xlink:href=\"#DejaVuSans-48\"/>\n     <use x=\"945.458984\" xlink:href=\"#DejaVuSans-44\"/>\n     <use x=\"977.246094\" xlink:href=\"#DejaVuSans-32\"/>\n     <use x=\"1009.033203\" xlink:href=\"#DejaVuSans-50\"/>\n     <use x=\"1072.65625\" xlink:href=\"#DejaVuSans-48\"/>\n     <use x=\"1136.279297\" xlink:href=\"#DejaVuSans-44\"/>\n     <use x=\"1168.066406\" xlink:href=\"#DejaVuSans-32\"/>\n     <use x=\"1199.853516\" xlink:href=\"#DejaVuSans-51\"/>\n     <use x=\"1263.476562\" xlink:href=\"#DejaVuSans-41\"/>\n    </g>\n   </g>\n  </g>\n </g>\n <defs>\n  <clipPath id=\"p78883cdd2a\">\n   <rect height=\"217.44\" width=\"217.44\" x=\"7.2\" y=\"24.14175\"/>\n  </clipPath>\n </defs>\n</svg>\n"
          },
          "metadata": {
            "tags": []
          }
        },
        {
          "output_type": "display_data",
          "data": {
            "text/plain": [
              "<Figure size 432x288 with 1 Axes>"
            ],
            "image/svg+xml": "<?xml version=\"1.0\" encoding=\"utf-8\" standalone=\"no\"?>\n<!DOCTYPE svg PUBLIC \"-//W3C//DTD SVG 1.1//EN\"\n  \"http://www.w3.org/Graphics/SVG/1.1/DTD/svg11.dtd\">\n<!-- Created with matplotlib (https://matplotlib.org/) -->\n<svg height=\"248.78175pt\" version=\"1.1\" viewBox=\"0 0 231.84 248.78175\" width=\"231.84pt\" xmlns=\"http://www.w3.org/2000/svg\" xmlns:xlink=\"http://www.w3.org/1999/xlink\">\n <defs>\n  <style type=\"text/css\">\n*{stroke-linecap:butt;stroke-linejoin:round;}\n  </style>\n </defs>\n <g id=\"figure_1\">\n  <g id=\"patch_1\">\n   <path d=\"M 0 248.78175 \nL 231.84 248.78175 \nL 231.84 0 \nL 0 0 \nz\n\" style=\"fill:#ffffff;\"/>\n  </g>\n  <g id=\"axes_1\">\n   <g clip-path=\"url(#pe3b9098267)\">\n    <image height=\"218\" id=\"image26a8fc4ea7\" transform=\"scale(1 -1)translate(0 -218)\" width=\"218\" x=\"7.2\" xlink:href=\"data:image/png;base64,\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\" y=\"-23.58175\"/>\n   </g>\n   <g id=\"text_1\">\n    <!-- Image has size (50, 50) -->\n    <defs>\n     <path d=\"M 9.8125 72.90625 \nL 19.671875 72.90625 \nL 19.671875 0 \nL 9.8125 0 \nz\n\" id=\"DejaVuSans-73\"/>\n     <path d=\"M 52 44.1875 \nQ 55.375 50.25 60.0625 53.125 \nQ 64.75 56 71.09375 56 \nQ 79.640625 56 84.28125 50.015625 \nQ 88.921875 44.046875 88.921875 33.015625 \nL 88.921875 0 \nL 79.890625 0 \nL 79.890625 32.71875 \nQ 79.890625 40.578125 77.09375 44.375 \nQ 74.3125 48.1875 68.609375 48.1875 \nQ 61.625 48.1875 57.5625 43.546875 \nQ 53.515625 38.921875 53.515625 30.90625 \nL 53.515625 0 \nL 44.484375 0 \nL 44.484375 32.71875 \nQ 44.484375 40.625 41.703125 44.40625 \nQ 38.921875 48.1875 33.109375 48.1875 \nQ 26.21875 48.1875 22.15625 43.53125 \nQ 18.109375 38.875 18.109375 30.90625 \nL 18.109375 0 \nL 9.078125 0 \nL 9.078125 54.6875 \nL 18.109375 54.6875 \nL 18.109375 46.1875 \nQ 21.1875 51.21875 25.484375 53.609375 \nQ 29.78125 56 35.6875 56 \nQ 41.65625 56 45.828125 52.96875 \nQ 50 49.953125 52 44.1875 \nz\n\" id=\"DejaVuSans-109\"/>\n     <path d=\"M 34.28125 27.484375 \nQ 23.390625 27.484375 19.1875 25 \nQ 14.984375 22.515625 14.984375 16.5 \nQ 14.984375 11.71875 18.140625 8.90625 \nQ 21.296875 6.109375 26.703125 6.109375 \nQ 34.1875 6.109375 38.703125 11.40625 \nQ 43.21875 16.703125 43.21875 25.484375 \nL 43.21875 27.484375 \nz\nM 52.203125 31.203125 \nL 52.203125 0 \nL 43.21875 0 \nL 43.21875 8.296875 \nQ 40.140625 3.328125 35.546875 0.953125 \nQ 30.953125 -1.421875 24.3125 -1.421875 \nQ 15.921875 -1.421875 10.953125 3.296875 \nQ 6 8.015625 6 15.921875 \nQ 6 25.140625 12.171875 29.828125 \nQ 18.359375 34.515625 30.609375 34.515625 \nL 43.21875 34.515625 \nL 43.21875 35.40625 \nQ 43.21875 41.609375 39.140625 45 \nQ 35.0625 48.390625 27.6875 48.390625 \nQ 23 48.390625 18.546875 47.265625 \nQ 14.109375 46.140625 10.015625 43.890625 \nL 10.015625 52.203125 \nQ 14.9375 54.109375 19.578125 55.046875 \nQ 24.21875 56 28.609375 56 \nQ 40.484375 56 46.34375 49.84375 \nQ 52.203125 43.703125 52.203125 31.203125 \nz\n\" id=\"DejaVuSans-97\"/>\n     <path d=\"M 45.40625 27.984375 \nQ 45.40625 37.75 41.375 43.109375 \nQ 37.359375 48.484375 30.078125 48.484375 \nQ 22.859375 48.484375 18.828125 43.109375 \nQ 14.796875 37.75 14.796875 27.984375 \nQ 14.796875 18.265625 18.828125 12.890625 \nQ 22.859375 7.515625 30.078125 7.515625 \nQ 37.359375 7.515625 41.375 12.890625 \nQ 45.40625 18.265625 45.40625 27.984375 \nz\nM 54.390625 6.78125 \nQ 54.390625 -7.171875 48.1875 -13.984375 \nQ 42 -20.796875 29.203125 -20.796875 \nQ 24.46875 -20.796875 20.265625 -20.09375 \nQ 16.0625 -19.390625 12.109375 -17.921875 \nL 12.109375 -9.1875 \nQ 16.0625 -11.328125 19.921875 -12.34375 \nQ 23.78125 -13.375 27.78125 -13.375 \nQ 36.625 -13.375 41.015625 -8.765625 \nQ 45.40625 -4.15625 45.40625 5.171875 \nL 45.40625 9.625 \nQ 42.625 4.78125 38.28125 2.390625 \nQ 33.9375 0 27.875 0 \nQ 17.828125 0 11.671875 7.65625 \nQ 5.515625 15.328125 5.515625 27.984375 \nQ 5.515625 40.671875 11.671875 48.328125 \nQ 17.828125 56 27.875 56 \nQ 33.9375 56 38.28125 53.609375 \nQ 42.625 51.21875 45.40625 46.390625 \nL 45.40625 54.6875 \nL 54.390625 54.6875 \nz\n\" id=\"DejaVuSans-103\"/>\n     <path d=\"M 56.203125 29.59375 \nL 56.203125 25.203125 \nL 14.890625 25.203125 \nQ 15.484375 15.921875 20.484375 11.0625 \nQ 25.484375 6.203125 34.421875 6.203125 \nQ 39.59375 6.203125 44.453125 7.46875 \nQ 49.3125 8.734375 54.109375 11.28125 \nL 54.109375 2.78125 \nQ 49.265625 0.734375 44.1875 -0.34375 \nQ 39.109375 -1.421875 33.890625 -1.421875 \nQ 20.796875 -1.421875 13.15625 6.1875 \nQ 5.515625 13.8125 5.515625 26.8125 \nQ 5.515625 40.234375 12.765625 48.109375 \nQ 20.015625 56 32.328125 56 \nQ 43.359375 56 49.78125 48.890625 \nQ 56.203125 41.796875 56.203125 29.59375 \nz\nM 47.21875 32.234375 \nQ 47.125 39.59375 43.09375 43.984375 \nQ 39.0625 48.390625 32.421875 48.390625 \nQ 24.90625 48.390625 20.390625 44.140625 \nQ 15.875 39.890625 15.1875 32.171875 \nz\n\" id=\"DejaVuSans-101\"/>\n     <path id=\"DejaVuSans-32\"/>\n     <path d=\"M 54.890625 33.015625 \nL 54.890625 0 \nL 45.90625 0 \nL 45.90625 32.71875 \nQ 45.90625 40.484375 42.875 44.328125 \nQ 39.84375 48.1875 33.796875 48.1875 \nQ 26.515625 48.1875 22.3125 43.546875 \nQ 18.109375 38.921875 18.109375 30.90625 \nL 18.109375 0 \nL 9.078125 0 \nL 9.078125 75.984375 \nL 18.109375 75.984375 \nL 18.109375 46.1875 \nQ 21.34375 51.125 25.703125 53.5625 \nQ 30.078125 56 35.796875 56 \nQ 45.21875 56 50.046875 50.171875 \nQ 54.890625 44.34375 54.890625 33.015625 \nz\n\" id=\"DejaVuSans-104\"/>\n     <path d=\"M 44.28125 53.078125 \nL 44.28125 44.578125 \nQ 40.484375 46.53125 36.375 47.5 \nQ 32.28125 48.484375 27.875 48.484375 \nQ 21.1875 48.484375 17.84375 46.4375 \nQ 14.5 44.390625 14.5 40.28125 \nQ 14.5 37.15625 16.890625 35.375 \nQ 19.28125 33.59375 26.515625 31.984375 \nL 29.59375 31.296875 \nQ 39.15625 29.25 43.1875 25.515625 \nQ 47.21875 21.78125 47.21875 15.09375 \nQ 47.21875 7.46875 41.1875 3.015625 \nQ 35.15625 -1.421875 24.609375 -1.421875 \nQ 20.21875 -1.421875 15.453125 -0.5625 \nQ 10.6875 0.296875 5.421875 2 \nL 5.421875 11.28125 \nQ 10.40625 8.6875 15.234375 7.390625 \nQ 20.0625 6.109375 24.8125 6.109375 \nQ 31.15625 6.109375 34.5625 8.28125 \nQ 37.984375 10.453125 37.984375 14.40625 \nQ 37.984375 18.0625 35.515625 20.015625 \nQ 33.0625 21.96875 24.703125 23.78125 \nL 21.578125 24.515625 \nQ 13.234375 26.265625 9.515625 29.90625 \nQ 5.8125 33.546875 5.8125 39.890625 \nQ 5.8125 47.609375 11.28125 51.796875 \nQ 16.75 56 26.8125 56 \nQ 31.78125 56 36.171875 55.265625 \nQ 40.578125 54.546875 44.28125 53.078125 \nz\n\" id=\"DejaVuSans-115\"/>\n     <path d=\"M 9.421875 54.6875 \nL 18.40625 54.6875 \nL 18.40625 0 \nL 9.421875 0 \nz\nM 9.421875 75.984375 \nL 18.40625 75.984375 \nL 18.40625 64.59375 \nL 9.421875 64.59375 \nz\n\" id=\"DejaVuSans-105\"/>\n     <path d=\"M 5.515625 54.6875 \nL 48.1875 54.6875 \nL 48.1875 46.484375 \nL 14.40625 7.171875 \nL 48.1875 7.171875 \nL 48.1875 0 \nL 4.296875 0 \nL 4.296875 8.203125 \nL 38.09375 47.515625 \nL 5.515625 47.515625 \nz\n\" id=\"DejaVuSans-122\"/>\n     <path d=\"M 31 75.875 \nQ 24.46875 64.65625 21.28125 53.65625 \nQ 18.109375 42.671875 18.109375 31.390625 \nQ 18.109375 20.125 21.3125 9.0625 \nQ 24.515625 -2 31 -13.1875 \nL 23.1875 -13.1875 \nQ 15.875 -1.703125 12.234375 9.375 \nQ 8.59375 20.453125 8.59375 31.390625 \nQ 8.59375 42.28125 12.203125 53.3125 \nQ 15.828125 64.359375 23.1875 75.875 \nz\n\" id=\"DejaVuSans-40\"/>\n     <path d=\"M 10.796875 72.90625 \nL 49.515625 72.90625 \nL 49.515625 64.59375 \nL 19.828125 64.59375 \nL 19.828125 46.734375 \nQ 21.96875 47.46875 24.109375 47.828125 \nQ 26.265625 48.1875 28.421875 48.1875 \nQ 40.625 48.1875 47.75 41.5 \nQ 54.890625 34.8125 54.890625 23.390625 \nQ 54.890625 11.625 47.5625 5.09375 \nQ 40.234375 -1.421875 26.90625 -1.421875 \nQ 22.3125 -1.421875 17.546875 -0.640625 \nQ 12.796875 0.140625 7.71875 1.703125 \nL 7.71875 11.625 \nQ 12.109375 9.234375 16.796875 8.0625 \nQ 21.484375 6.890625 26.703125 6.890625 \nQ 35.15625 6.890625 40.078125 11.328125 \nQ 45.015625 15.765625 45.015625 23.390625 \nQ 45.015625 31 40.078125 35.4375 \nQ 35.15625 39.890625 26.703125 39.890625 \nQ 22.75 39.890625 18.8125 39.015625 \nQ 14.890625 38.140625 10.796875 36.28125 \nz\n\" id=\"DejaVuSans-53\"/>\n     <path d=\"M 31.78125 66.40625 \nQ 24.171875 66.40625 20.328125 58.90625 \nQ 16.5 51.421875 16.5 36.375 \nQ 16.5 21.390625 20.328125 13.890625 \nQ 24.171875 6.390625 31.78125 6.390625 \nQ 39.453125 6.390625 43.28125 13.890625 \nQ 47.125 21.390625 47.125 36.375 \nQ 47.125 51.421875 43.28125 58.90625 \nQ 39.453125 66.40625 31.78125 66.40625 \nz\nM 31.78125 74.21875 \nQ 44.046875 74.21875 50.515625 64.515625 \nQ 56.984375 54.828125 56.984375 36.375 \nQ 56.984375 17.96875 50.515625 8.265625 \nQ 44.046875 -1.421875 31.78125 -1.421875 \nQ 19.53125 -1.421875 13.0625 8.265625 \nQ 6.59375 17.96875 6.59375 36.375 \nQ 6.59375 54.828125 13.0625 64.515625 \nQ 19.53125 74.21875 31.78125 74.21875 \nz\n\" id=\"DejaVuSans-48\"/>\n     <path d=\"M 11.71875 12.40625 \nL 22.015625 12.40625 \nL 22.015625 4 \nL 14.015625 -11.625 \nL 7.71875 -11.625 \nL 11.71875 4 \nz\n\" id=\"DejaVuSans-44\"/>\n     <path d=\"M 8.015625 75.875 \nL 15.828125 75.875 \nQ 23.140625 64.359375 26.78125 53.3125 \nQ 30.421875 42.28125 30.421875 31.390625 \nQ 30.421875 20.453125 26.78125 9.375 \nQ 23.140625 -1.703125 15.828125 -13.1875 \nL 8.015625 -13.1875 \nQ 14.5 -2 17.703125 9.0625 \nQ 20.90625 20.125 20.90625 31.390625 \nQ 20.90625 42.671875 17.703125 53.65625 \nQ 14.5 64.65625 8.015625 75.875 \nz\n\" id=\"DejaVuSans-41\"/>\n    </defs>\n    <g transform=\"translate(31.29975 18.14175)scale(0.144 -0.144)\">\n     <use xlink:href=\"#DejaVuSans-73\"/>\n     <use x=\"29.492188\" xlink:href=\"#DejaVuSans-109\"/>\n     <use x=\"126.904297\" xlink:href=\"#DejaVuSans-97\"/>\n     <use x=\"188.183594\" xlink:href=\"#DejaVuSans-103\"/>\n     <use x=\"251.660156\" xlink:href=\"#DejaVuSans-101\"/>\n     <use x=\"313.183594\" xlink:href=\"#DejaVuSans-32\"/>\n     <use x=\"344.970703\" xlink:href=\"#DejaVuSans-104\"/>\n     <use x=\"408.349609\" xlink:href=\"#DejaVuSans-97\"/>\n     <use x=\"469.628906\" xlink:href=\"#DejaVuSans-115\"/>\n     <use x=\"521.728516\" xlink:href=\"#DejaVuSans-32\"/>\n     <use x=\"553.515625\" xlink:href=\"#DejaVuSans-115\"/>\n     <use x=\"605.615234\" xlink:href=\"#DejaVuSans-105\"/>\n     <use x=\"633.398438\" xlink:href=\"#DejaVuSans-122\"/>\n     <use x=\"685.888672\" xlink:href=\"#DejaVuSans-101\"/>\n     <use x=\"747.412109\" xlink:href=\"#DejaVuSans-32\"/>\n     <use x=\"779.199219\" xlink:href=\"#DejaVuSans-40\"/>\n     <use x=\"818.212891\" xlink:href=\"#DejaVuSans-53\"/>\n     <use x=\"881.835938\" xlink:href=\"#DejaVuSans-48\"/>\n     <use x=\"945.458984\" xlink:href=\"#DejaVuSans-44\"/>\n     <use x=\"977.246094\" xlink:href=\"#DejaVuSans-32\"/>\n     <use x=\"1009.033203\" xlink:href=\"#DejaVuSans-53\"/>\n     <use x=\"1072.65625\" xlink:href=\"#DejaVuSans-48\"/>\n     <use x=\"1136.279297\" xlink:href=\"#DejaVuSans-41\"/>\n    </g>\n   </g>\n  </g>\n </g>\n <defs>\n  <clipPath id=\"pe3b9098267\">\n   <rect height=\"217.44\" width=\"217.44\" x=\"7.2\" y=\"24.14175\"/>\n  </clipPath>\n </defs>\n</svg>\n"
          },
          "metadata": {
            "tags": []
          }
        }
      ]
    },
    {
      "cell_type": "code",
      "metadata": {
        "id": "gNbdom-mnbag",
        "outputId": "42be06bd-cba5-4e3d-ac81-e0a0eed99db1",
        "colab": {
          "base_uri": "https://localhost:8080/",
          "height": 66,
          "referenced_widgets": [
            "4ab247ca6a014fa0aaf456c28f65f85b",
            "a400a2e895c8455ba88eb5966f729aac",
            "b81aa544e1494b95a09397eba98bde10",
            "87675baa3e134d0db89082ac72f9fe19",
            "2867b4cc280e4bdf92539fa7f7153e6a",
            "ac856b0901d94fd887499e4c1ffc7e60",
            "53278a2c74ab49469e8f68b5d5fc0f3b",
            "ba91236b665e4f44a2ae8abcc77eb86f"
          ]
        }
      },
      "source": [
        "folders = os.listdir('image')\n",
        "\n",
        "# ignore hidden files\n",
        "folders = [folder for folder in folders if folder[0]!='.']\n",
        "\n",
        "os.mkdir('stuff')\n",
        "os.mkdir('stuff/train')\n",
        "os.mkdir('stuff/val')\n",
        "\n",
        "for folder in tqdm(folders):\n",
        "    os.mkdir(f'stuff/val/{folder}')\n",
        "    os.mkdir(f'stuff/train/{folder}')\n",
        "\n",
        "    images=os.listdir(f'image/{folder}')\n",
        "\n",
        "    images = [image for image in images if image[0]!='.']\n",
        "\n",
        "    random.shuffle(images)\n",
        "\n",
        "    for image in images[:20]:\n",
        "      shutil.copy(f'image/{folder}/{image}',\n",
        "                  f'stuff/val/{folder}/{image}' )\n",
        "\n",
        "    \n",
        "    for imag in images[20:]:\n",
        "      shutil.copy(f'image/{folder}/{image}',\n",
        "                  f'stuff/train/{folder}/{image}' )"
      ],
      "execution_count": 29,
      "outputs": [
        {
          "output_type": "display_data",
          "data": {
            "application/vnd.jupyter.widget-view+json": {
              "model_id": "4ab247ca6a014fa0aaf456c28f65f85b",
              "version_minor": 0,
              "version_major": 2
            },
            "text/plain": [
              "HBox(children=(FloatProgress(value=0.0, max=68.0), HTML(value='')))"
            ]
          },
          "metadata": {
            "tags": []
          }
        },
        {
          "output_type": "stream",
          "text": [
            "\n"
          ],
          "name": "stdout"
        }
      ]
    },
    {
      "cell_type": "code",
      "metadata": {
        "id": "upkva_l8niR0"
      },
      "source": [
        "transforms_set = transforms.Compose([\n",
        "    transforms.Grayscale(num_output_channels=1),\n",
        "    transforms.Resize(size=50),\n",
        "    transforms.ToTensor(),\n",
        "])\n",
        "\n",
        "train_loader = torch.utils.data.DataLoader(\n",
        "    datasets.ImageFolder('stuff/train', transform=transforms_set),\n",
        "    batch_size = batch_size,\n",
        "    shuffle=True\n",
        ")\n",
        "val_loader = torch.utils.data.DataLoader(\n",
        "    datasets.ImageFolder('stuff/val', transform=transforms_set),\n",
        "    batch_size = batch_size,\n",
        "    shuffle=True\n",
        ")\n"
      ],
      "execution_count": 60,
      "outputs": []
    },
    {
      "cell_type": "code",
      "metadata": {
        "id": "9kW5IQrVnkFS"
      },
      "source": [
        "class VAE(nn.Module):\n",
        "    def __init__(self):\n",
        "        super(VAE, self).__init__()\n",
        "        \n",
        "        # need to fill in dimensions here\n",
        "    \n",
        "        z = 32\n",
        "        \n",
        "        self.fc1 = nn.Linear(50*50,1000)\n",
        "        self.fc21 = nn.Linear(1000,z)\n",
        "        self.fc22 = nn.Linear(1000,z)\n",
        "        self.fc3 = nn.Linear(z,1000)\n",
        "        self.fc4 = nn.Linear(1000,50*50)\n",
        "\n",
        "    def encode(self, x):\n",
        "        h1 = F.relu(self.fc1(x))\n",
        "        return self.fc21(h1), self.fc22(h1)\n",
        "\n",
        "    def reparameterize(self, mu, logvar):\n",
        "        std = torch.exp(0.5*logvar)\n",
        "        eps = torch.randn_like(std)\n",
        "        return mu + eps*std\n",
        "\n",
        "    def decode(self, z):\n",
        "        h3 = F.relu(self.fc3(z))\n",
        "        return torch.sigmoid(self.fc4(h3))\n",
        "\n",
        "    def forward(self, x):\n",
        "        \n",
        "        # don't forget forward pass re-index\n",
        "        \n",
        "        mu, logvar = self.encode(x.view(-1, 50*50))\n",
        "        z = self.reparameterize(mu, logvar)\n",
        "        return self.decode(z), mu, logvar"
      ],
      "execution_count": 61,
      "outputs": []
    },
    {
      "cell_type": "code",
      "metadata": {
        "id": "sEdIWs9DSKhR"
      },
      "source": [
        "def loss_function(recon_x, x, mu, logvar):\n",
        "  BCE= F.binary_cross_entropy(recon_x, x.view(-1,50*50), reduction='sum')\n",
        "\n",
        "  KLD= -0.5* torch.sum(1 + logvar- mu.pow(2) - logvar.exp())\n",
        "\n",
        "  return BCE + KLD"
      ],
      "execution_count": 62,
      "outputs": []
    },
    {
      "cell_type": "code",
      "metadata": {
        "id": "_1BuUBwBn26s",
        "outputId": "d1e6a8db-ed3c-48af-e53e-0806af792bc7",
        "colab": {
          "base_uri": "https://localhost:8080/"
        }
      },
      "source": [
        "device = torch.device(\"cuda\" if torch.cuda.is_available() else \"cpu\")\n",
        "print(f'Device: {device}')\n",
        "model = VAE().to(device)\n",
        "\n",
        "optimizer = optim.Adam(model.parameters(), lr=0.001)"
      ],
      "execution_count": 63,
      "outputs": [
        {
          "output_type": "stream",
          "text": [
            "Device: cuda\n"
          ],
          "name": "stdout"
        }
      ]
    },
    {
      "cell_type": "code",
      "metadata": {
        "id": "jXH1NSR3o7zy"
      },
      "source": [
        "def evaluate(evaluate_data=val_loader):\n",
        "    \n",
        "    model.eval()\n",
        "\n",
        "    val_loss = 0\n",
        "    with torch.no_grad():\n",
        "        for i, (data, _) in enumerate(evaluate_data):\n",
        "            data = data.to(device)\n",
        "            recon_batch, mu, logvar = model(data)\n",
        "\n",
        "            val_loss += loss_function(recon_batch, data, mu, logvar).item()\n",
        "            \n",
        "            \n",
        "            if i == 0:\n",
        "                n = min(data.size(0), 16)\n",
        "                comparison = torch.cat([data[:n],\n",
        "                                        recon_batch.view(batch_size, 1, 50, 50)[:n]])\n",
        "                save_image(comparison.cpu(),\n",
        "                           'Results/reconstruction_' + str(epoch) + '.pdf', nrow=n)\n",
        "\n",
        "    val_loss /= len(evaluate_data.dataset)\n",
        "    return val_loss\n",
        "\n",
        "\n",
        "def sample_latent_space(epoch):\n",
        "    with torch.no_grad():\n",
        "        \n",
        "        sample = torch.randn(64, 32).to(device)\n",
        "        sample = model.decode(sample)\n",
        "        \n",
        "        save_image(sample.view(64, 1, 50, 50),\n",
        "                   'Results/sample_' + str(epoch) + '.pdf')"
      ],
      "execution_count": 64,
      "outputs": []
    },
    {
      "cell_type": "code",
      "metadata": {
        "id": "hgtjipUAo8mi"
      },
      "source": [
        "def train(epoch):\n",
        "\n",
        "    model.train()\n",
        "    train_loss = 0\n",
        "    \n",
        "    progress_bar = tqdm(train_loader, desc='Epoch {:03d}'.format(epoch), leave=False, disable=False)\n",
        "    for data, _ in progress_bar:\n",
        "\n",
        "        \n",
        "      data= data.to(device)\n",
        "      optimizer.zero_grad()\n",
        "      recon_batch, mu, logvar = model(data) \n",
        "      loss = loss_function(recon_batch, data, mu, logvar)\n",
        "      loss.backward()\n",
        "      train_loss += loss.item()\n",
        "      optimizer.step() \n",
        "\n",
        "      progress_bar.set_postfix({'training_loss': '{:.3f}'.format(loss.item() / len(data))})\n",
        "\n",
        "    average_train_loss = train_loss / len(train_loader.dataset)\n",
        "    tqdm.write('Training set loss (average, epoch {:03d}): {:.3f}'.format(epoch, average_train_loss))\n",
        "    val_loss = evaluate(val_loader)\n",
        "    tqdm.write('\\t\\t\\t\\t====> Validation set loss: {:.3f}'.format(val_loss))\n",
        "\n",
        "    train_losses.append(average_train_loss)\n",
        "    val_losses.append(val_loss)\n",
        "    \n",
        "    if epoch%50==0:\n",
        "        torch.save(model.state_dict(), f'Models/epoch_{epoch}.model')"
      ],
      "execution_count": 65,
      "outputs": []
    },
    {
      "cell_type": "code",
      "metadata": {
        "id": "7TnLha-6hAMI"
      },
      "source": [
        "epoch = 1000"
      ],
      "execution_count": 83,
      "outputs": []
    },
    {
      "cell_type": "code",
      "metadata": {
        "id": "rwlSRAuupAEA"
      },
      "source": [
        "train_losses, val_losses = [], []\n",
        "\n",
        "for epoch in range(1, epoch+1):\n",
        "  train(epoch)\n",
        "  sample_latent_space(epoch)\n",
        "    \n",
        "np.savetxt('Models/training_losses.txt', np.array(train_losses), delimiter='\\n')\n",
        "np.savetxt('Models/validation_losses.txt', np.array(val_losses), delimiter='\\n')"
      ],
      "execution_count": null,
      "outputs": []
    },
    {
      "cell_type": "code",
      "metadata": {
        "id": "gRyncEtOpOKL"
      },
      "source": [
        "train_losses = np.loadtxt('Models/training_losses.txt')\n",
        "val_losses = np.loadtxt('Models/validation_losses.txt')\n"
      ],
      "execution_count": 85,
      "outputs": []
    },
    {
      "cell_type": "code",
      "metadata": {
        "id": "xn5ZbPRnpP82",
        "outputId": "c9c5f0b7-b7bb-47db-bd00-f6fd3fed538d",
        "colab": {
          "base_uri": "https://localhost:8080/",
          "height": 396
        }
      },
      "source": [
        "plt.plot(\n",
        "    range(0, len(train_losses)),\n",
        "    train_losses,\n",
        "    label = 'Trainig Losses',\n",
        "    linewidth=2,\n",
        "    alpha=0.7\n",
        ")\n",
        "\n",
        "plt.plot(\n",
        "    range(0, len(val_losses)),\n",
        "    val_losses,\n",
        "    label = 'Validation Losses',\n",
        "    linewidth=2,\n",
        "    alpha=0.7\n",
        ")\n",
        "\n",
        "plt.title('VAE Font Training')\n",
        "plt.xlabel('Epoch')\n",
        "plt.ylabel('Loss')\n",
        "plt.legend()\n",
        "pass"
      ],
      "execution_count": 86,
      "outputs": [
        {
          "output_type": "display_data",
          "data": {
            "text/plain": [
              "<Figure size 432x288 with 1 Axes>"
            ],
            "image/svg+xml": "<?xml version=\"1.0\" encoding=\"utf-8\" standalone=\"no\"?>\n<!DOCTYPE svg PUBLIC \"-//W3C//DTD SVG 1.1//EN\"\n  \"http://www.w3.org/Graphics/SVG/1.1/DTD/svg11.dtd\">\n<!-- Created with matplotlib (https://matplotlib.org/) -->\n<svg height=\"281.073625pt\" version=\"1.1\" viewBox=\"0 0 397.26375 281.073625\" width=\"397.26375pt\" xmlns=\"http://www.w3.org/2000/svg\" xmlns:xlink=\"http://www.w3.org/1999/xlink\">\n <defs>\n  <style type=\"text/css\">\n*{stroke-linecap:butt;stroke-linejoin:round;}\n  </style>\n </defs>\n <g id=\"figure_1\">\n  <g id=\"patch_1\">\n   <path d=\"M 0 281.073625 \nL 397.26375 281.073625 \nL 397.26375 0 \nL 0 0 \nz\n\" style=\"fill:#ffffff;\"/>\n  </g>\n  <g id=\"axes_1\">\n   <g id=\"patch_2\">\n    <path d=\"M 55.26375 241.58175 \nL 390.06375 241.58175 \nL 390.06375 24.14175 \nL 55.26375 24.14175 \nz\n\" style=\"fill:#e5e5e5;\"/>\n   </g>\n   <g id=\"matplotlib.axis_1\">\n    <g id=\"xtick_1\">\n     <g id=\"line2d_1\">\n      <path clip-path=\"url(#pd360fdb3c1)\" d=\"M 70.481932 241.58175 \nL 70.481932 24.14175 \n\" style=\"fill:none;stroke:#ffffff;stroke-linecap:square;stroke-width:0.8;\"/>\n     </g>\n     <g id=\"line2d_2\">\n      <defs>\n       <path d=\"M 0 0 \nL 0 3.5 \n\" id=\"maefb3068aa\" style=\"stroke:#555555;stroke-width:0.8;\"/>\n      </defs>\n      <g>\n       <use style=\"fill:#555555;stroke:#555555;stroke-width:0.8;\" x=\"70.481932\" xlink:href=\"#maefb3068aa\" y=\"241.58175\"/>\n      </g>\n     </g>\n     <g id=\"text_1\">\n      <!-- 0 -->\n      <defs>\n       <path d=\"M 31.78125 66.40625 \nQ 24.171875 66.40625 20.328125 58.90625 \nQ 16.5 51.421875 16.5 36.375 \nQ 16.5 21.390625 20.328125 13.890625 \nQ 24.171875 6.390625 31.78125 6.390625 \nQ 39.453125 6.390625 43.28125 13.890625 \nQ 47.125 21.390625 47.125 36.375 \nQ 47.125 51.421875 43.28125 58.90625 \nQ 39.453125 66.40625 31.78125 66.40625 \nz\nM 31.78125 74.21875 \nQ 44.046875 74.21875 50.515625 64.515625 \nQ 56.984375 54.828125 56.984375 36.375 \nQ 56.984375 17.96875 50.515625 8.265625 \nQ 44.046875 -1.421875 31.78125 -1.421875 \nQ 19.53125 -1.421875 13.0625 8.265625 \nQ 6.59375 17.96875 6.59375 36.375 \nQ 6.59375 54.828125 13.0625 64.515625 \nQ 19.53125 74.21875 31.78125 74.21875 \nz\n\" id=\"DejaVuSans-48\"/>\n      </defs>\n      <g style=\"fill:#555555;\" transform=\"translate(67.300682 256.180187)scale(0.1 -0.1)\">\n       <use xlink:href=\"#DejaVuSans-48\"/>\n      </g>\n     </g>\n    </g>\n    <g id=\"xtick_2\">\n     <g id=\"line2d_3\">\n      <path clip-path=\"url(#pd360fdb3c1)\" d=\"M 131.415593 241.58175 \nL 131.415593 24.14175 \n\" style=\"fill:none;stroke:#ffffff;stroke-linecap:square;stroke-width:0.8;\"/>\n     </g>\n     <g id=\"line2d_4\">\n      <g>\n       <use style=\"fill:#555555;stroke:#555555;stroke-width:0.8;\" x=\"131.415593\" xlink:href=\"#maefb3068aa\" y=\"241.58175\"/>\n      </g>\n     </g>\n     <g id=\"text_2\">\n      <!-- 200 -->\n      <defs>\n       <path d=\"M 19.1875 8.296875 \nL 53.609375 8.296875 \nL 53.609375 0 \nL 7.328125 0 \nL 7.328125 8.296875 \nQ 12.9375 14.109375 22.625 23.890625 \nQ 32.328125 33.6875 34.8125 36.53125 \nQ 39.546875 41.84375 41.421875 45.53125 \nQ 43.3125 49.21875 43.3125 52.78125 \nQ 43.3125 58.59375 39.234375 62.25 \nQ 35.15625 65.921875 28.609375 65.921875 \nQ 23.96875 65.921875 18.8125 64.3125 \nQ 13.671875 62.703125 7.8125 59.421875 \nL 7.8125 69.390625 \nQ 13.765625 71.78125 18.9375 73 \nQ 24.125 74.21875 28.421875 74.21875 \nQ 39.75 74.21875 46.484375 68.546875 \nQ 53.21875 62.890625 53.21875 53.421875 \nQ 53.21875 48.921875 51.53125 44.890625 \nQ 49.859375 40.875 45.40625 35.40625 \nQ 44.1875 33.984375 37.640625 27.21875 \nQ 31.109375 20.453125 19.1875 8.296875 \nz\n\" id=\"DejaVuSans-50\"/>\n      </defs>\n      <g style=\"fill:#555555;\" transform=\"translate(121.871843 256.180187)scale(0.1 -0.1)\">\n       <use xlink:href=\"#DejaVuSans-50\"/>\n       <use x=\"63.623047\" xlink:href=\"#DejaVuSans-48\"/>\n       <use x=\"127.246094\" xlink:href=\"#DejaVuSans-48\"/>\n      </g>\n     </g>\n    </g>\n    <g id=\"xtick_3\">\n     <g id=\"line2d_5\">\n      <path clip-path=\"url(#pd360fdb3c1)\" d=\"M 192.349254 241.58175 \nL 192.349254 24.14175 \n\" style=\"fill:none;stroke:#ffffff;stroke-linecap:square;stroke-width:0.8;\"/>\n     </g>\n     <g id=\"line2d_6\">\n      <g>\n       <use style=\"fill:#555555;stroke:#555555;stroke-width:0.8;\" x=\"192.349254\" xlink:href=\"#maefb3068aa\" y=\"241.58175\"/>\n      </g>\n     </g>\n     <g id=\"text_3\">\n      <!-- 400 -->\n      <defs>\n       <path d=\"M 37.796875 64.3125 \nL 12.890625 25.390625 \nL 37.796875 25.390625 \nz\nM 35.203125 72.90625 \nL 47.609375 72.90625 \nL 47.609375 25.390625 \nL 58.015625 25.390625 \nL 58.015625 17.1875 \nL 47.609375 17.1875 \nL 47.609375 0 \nL 37.796875 0 \nL 37.796875 17.1875 \nL 4.890625 17.1875 \nL 4.890625 26.703125 \nz\n\" id=\"DejaVuSans-52\"/>\n      </defs>\n      <g style=\"fill:#555555;\" transform=\"translate(182.805504 256.180187)scale(0.1 -0.1)\">\n       <use xlink:href=\"#DejaVuSans-52\"/>\n       <use x=\"63.623047\" xlink:href=\"#DejaVuSans-48\"/>\n       <use x=\"127.246094\" xlink:href=\"#DejaVuSans-48\"/>\n      </g>\n     </g>\n    </g>\n    <g id=\"xtick_4\">\n     <g id=\"line2d_7\">\n      <path clip-path=\"url(#pd360fdb3c1)\" d=\"M 253.282915 241.58175 \nL 253.282915 24.14175 \n\" style=\"fill:none;stroke:#ffffff;stroke-linecap:square;stroke-width:0.8;\"/>\n     </g>\n     <g id=\"line2d_8\">\n      <g>\n       <use style=\"fill:#555555;stroke:#555555;stroke-width:0.8;\" x=\"253.282915\" xlink:href=\"#maefb3068aa\" y=\"241.58175\"/>\n      </g>\n     </g>\n     <g id=\"text_4\">\n      <!-- 600 -->\n      <defs>\n       <path d=\"M 33.015625 40.375 \nQ 26.375 40.375 22.484375 35.828125 \nQ 18.609375 31.296875 18.609375 23.390625 \nQ 18.609375 15.53125 22.484375 10.953125 \nQ 26.375 6.390625 33.015625 6.390625 \nQ 39.65625 6.390625 43.53125 10.953125 \nQ 47.40625 15.53125 47.40625 23.390625 \nQ 47.40625 31.296875 43.53125 35.828125 \nQ 39.65625 40.375 33.015625 40.375 \nz\nM 52.59375 71.296875 \nL 52.59375 62.3125 \nQ 48.875 64.0625 45.09375 64.984375 \nQ 41.3125 65.921875 37.59375 65.921875 \nQ 27.828125 65.921875 22.671875 59.328125 \nQ 17.53125 52.734375 16.796875 39.40625 \nQ 19.671875 43.65625 24.015625 45.921875 \nQ 28.375 48.1875 33.59375 48.1875 \nQ 44.578125 48.1875 50.953125 41.515625 \nQ 57.328125 34.859375 57.328125 23.390625 \nQ 57.328125 12.15625 50.6875 5.359375 \nQ 44.046875 -1.421875 33.015625 -1.421875 \nQ 20.359375 -1.421875 13.671875 8.265625 \nQ 6.984375 17.96875 6.984375 36.375 \nQ 6.984375 53.65625 15.1875 63.9375 \nQ 23.390625 74.21875 37.203125 74.21875 \nQ 40.921875 74.21875 44.703125 73.484375 \nQ 48.484375 72.75 52.59375 71.296875 \nz\n\" id=\"DejaVuSans-54\"/>\n      </defs>\n      <g style=\"fill:#555555;\" transform=\"translate(243.739165 256.180187)scale(0.1 -0.1)\">\n       <use xlink:href=\"#DejaVuSans-54\"/>\n       <use x=\"63.623047\" xlink:href=\"#DejaVuSans-48\"/>\n       <use x=\"127.246094\" xlink:href=\"#DejaVuSans-48\"/>\n      </g>\n     </g>\n    </g>\n    <g id=\"xtick_5\">\n     <g id=\"line2d_9\">\n      <path clip-path=\"url(#pd360fdb3c1)\" d=\"M 314.216576 241.58175 \nL 314.216576 24.14175 \n\" style=\"fill:none;stroke:#ffffff;stroke-linecap:square;stroke-width:0.8;\"/>\n     </g>\n     <g id=\"line2d_10\">\n      <g>\n       <use style=\"fill:#555555;stroke:#555555;stroke-width:0.8;\" x=\"314.216576\" xlink:href=\"#maefb3068aa\" y=\"241.58175\"/>\n      </g>\n     </g>\n     <g id=\"text_5\">\n      <!-- 800 -->\n      <defs>\n       <path d=\"M 31.78125 34.625 \nQ 24.75 34.625 20.71875 30.859375 \nQ 16.703125 27.09375 16.703125 20.515625 \nQ 16.703125 13.921875 20.71875 10.15625 \nQ 24.75 6.390625 31.78125 6.390625 \nQ 38.8125 6.390625 42.859375 10.171875 \nQ 46.921875 13.96875 46.921875 20.515625 \nQ 46.921875 27.09375 42.890625 30.859375 \nQ 38.875 34.625 31.78125 34.625 \nz\nM 21.921875 38.8125 \nQ 15.578125 40.375 12.03125 44.71875 \nQ 8.5 49.078125 8.5 55.328125 \nQ 8.5 64.0625 14.71875 69.140625 \nQ 20.953125 74.21875 31.78125 74.21875 \nQ 42.671875 74.21875 48.875 69.140625 \nQ 55.078125 64.0625 55.078125 55.328125 \nQ 55.078125 49.078125 51.53125 44.71875 \nQ 48 40.375 41.703125 38.8125 \nQ 48.828125 37.15625 52.796875 32.3125 \nQ 56.78125 27.484375 56.78125 20.515625 \nQ 56.78125 9.90625 50.3125 4.234375 \nQ 43.84375 -1.421875 31.78125 -1.421875 \nQ 19.734375 -1.421875 13.25 4.234375 \nQ 6.78125 9.90625 6.78125 20.515625 \nQ 6.78125 27.484375 10.78125 32.3125 \nQ 14.796875 37.15625 21.921875 38.8125 \nz\nM 18.3125 54.390625 \nQ 18.3125 48.734375 21.84375 45.5625 \nQ 25.390625 42.390625 31.78125 42.390625 \nQ 38.140625 42.390625 41.71875 45.5625 \nQ 45.3125 48.734375 45.3125 54.390625 \nQ 45.3125 60.0625 41.71875 63.234375 \nQ 38.140625 66.40625 31.78125 66.40625 \nQ 25.390625 66.40625 21.84375 63.234375 \nQ 18.3125 60.0625 18.3125 54.390625 \nz\n\" id=\"DejaVuSans-56\"/>\n      </defs>\n      <g style=\"fill:#555555;\" transform=\"translate(304.672826 256.180187)scale(0.1 -0.1)\">\n       <use xlink:href=\"#DejaVuSans-56\"/>\n       <use x=\"63.623047\" xlink:href=\"#DejaVuSans-48\"/>\n       <use x=\"127.246094\" xlink:href=\"#DejaVuSans-48\"/>\n      </g>\n     </g>\n    </g>\n    <g id=\"xtick_6\">\n     <g id=\"line2d_11\">\n      <path clip-path=\"url(#pd360fdb3c1)\" d=\"M 375.150236 241.58175 \nL 375.150236 24.14175 \n\" style=\"fill:none;stroke:#ffffff;stroke-linecap:square;stroke-width:0.8;\"/>\n     </g>\n     <g id=\"line2d_12\">\n      <g>\n       <use style=\"fill:#555555;stroke:#555555;stroke-width:0.8;\" x=\"375.150236\" xlink:href=\"#maefb3068aa\" y=\"241.58175\"/>\n      </g>\n     </g>\n     <g id=\"text_6\">\n      <!-- 1000 -->\n      <defs>\n       <path d=\"M 12.40625 8.296875 \nL 28.515625 8.296875 \nL 28.515625 63.921875 \nL 10.984375 60.40625 \nL 10.984375 69.390625 \nL 28.421875 72.90625 \nL 38.28125 72.90625 \nL 38.28125 8.296875 \nL 54.390625 8.296875 \nL 54.390625 0 \nL 12.40625 0 \nz\n\" id=\"DejaVuSans-49\"/>\n      </defs>\n      <g style=\"fill:#555555;\" transform=\"translate(362.425236 256.180187)scale(0.1 -0.1)\">\n       <use xlink:href=\"#DejaVuSans-49\"/>\n       <use x=\"63.623047\" xlink:href=\"#DejaVuSans-48\"/>\n       <use x=\"127.246094\" xlink:href=\"#DejaVuSans-48\"/>\n       <use x=\"190.869141\" xlink:href=\"#DejaVuSans-48\"/>\n      </g>\n     </g>\n    </g>\n    <g id=\"text_7\">\n     <!-- Epoch -->\n     <defs>\n      <path d=\"M 9.8125 72.90625 \nL 55.90625 72.90625 \nL 55.90625 64.59375 \nL 19.671875 64.59375 \nL 19.671875 43.015625 \nL 54.390625 43.015625 \nL 54.390625 34.71875 \nL 19.671875 34.71875 \nL 19.671875 8.296875 \nL 56.78125 8.296875 \nL 56.78125 0 \nL 9.8125 0 \nz\n\" id=\"DejaVuSans-69\"/>\n      <path d=\"M 18.109375 8.203125 \nL 18.109375 -20.796875 \nL 9.078125 -20.796875 \nL 9.078125 54.6875 \nL 18.109375 54.6875 \nL 18.109375 46.390625 \nQ 20.953125 51.265625 25.265625 53.625 \nQ 29.59375 56 35.59375 56 \nQ 45.5625 56 51.78125 48.09375 \nQ 58.015625 40.1875 58.015625 27.296875 \nQ 58.015625 14.40625 51.78125 6.484375 \nQ 45.5625 -1.421875 35.59375 -1.421875 \nQ 29.59375 -1.421875 25.265625 0.953125 \nQ 20.953125 3.328125 18.109375 8.203125 \nz\nM 48.6875 27.296875 \nQ 48.6875 37.203125 44.609375 42.84375 \nQ 40.53125 48.484375 33.40625 48.484375 \nQ 26.265625 48.484375 22.1875 42.84375 \nQ 18.109375 37.203125 18.109375 27.296875 \nQ 18.109375 17.390625 22.1875 11.75 \nQ 26.265625 6.109375 33.40625 6.109375 \nQ 40.53125 6.109375 44.609375 11.75 \nQ 48.6875 17.390625 48.6875 27.296875 \nz\n\" id=\"DejaVuSans-112\"/>\n      <path d=\"M 30.609375 48.390625 \nQ 23.390625 48.390625 19.1875 42.75 \nQ 14.984375 37.109375 14.984375 27.296875 \nQ 14.984375 17.484375 19.15625 11.84375 \nQ 23.34375 6.203125 30.609375 6.203125 \nQ 37.796875 6.203125 41.984375 11.859375 \nQ 46.1875 17.53125 46.1875 27.296875 \nQ 46.1875 37.015625 41.984375 42.703125 \nQ 37.796875 48.390625 30.609375 48.390625 \nz\nM 30.609375 56 \nQ 42.328125 56 49.015625 48.375 \nQ 55.71875 40.765625 55.71875 27.296875 \nQ 55.71875 13.875 49.015625 6.21875 \nQ 42.328125 -1.421875 30.609375 -1.421875 \nQ 18.84375 -1.421875 12.171875 6.21875 \nQ 5.515625 13.875 5.515625 27.296875 \nQ 5.515625 40.765625 12.171875 48.375 \nQ 18.84375 56 30.609375 56 \nz\n\" id=\"DejaVuSans-111\"/>\n      <path d=\"M 48.78125 52.59375 \nL 48.78125 44.1875 \nQ 44.96875 46.296875 41.140625 47.34375 \nQ 37.3125 48.390625 33.40625 48.390625 \nQ 24.65625 48.390625 19.8125 42.84375 \nQ 14.984375 37.3125 14.984375 27.296875 \nQ 14.984375 17.28125 19.8125 11.734375 \nQ 24.65625 6.203125 33.40625 6.203125 \nQ 37.3125 6.203125 41.140625 7.25 \nQ 44.96875 8.296875 48.78125 10.40625 \nL 48.78125 2.09375 \nQ 45.015625 0.34375 40.984375 -0.53125 \nQ 36.96875 -1.421875 32.421875 -1.421875 \nQ 20.0625 -1.421875 12.78125 6.34375 \nQ 5.515625 14.109375 5.515625 27.296875 \nQ 5.515625 40.671875 12.859375 48.328125 \nQ 20.21875 56 33.015625 56 \nQ 37.15625 56 41.109375 55.140625 \nQ 45.0625 54.296875 48.78125 52.59375 \nz\n\" id=\"DejaVuSans-99\"/>\n      <path d=\"M 54.890625 33.015625 \nL 54.890625 0 \nL 45.90625 0 \nL 45.90625 32.71875 \nQ 45.90625 40.484375 42.875 44.328125 \nQ 39.84375 48.1875 33.796875 48.1875 \nQ 26.515625 48.1875 22.3125 43.546875 \nQ 18.109375 38.921875 18.109375 30.90625 \nL 18.109375 0 \nL 9.078125 0 \nL 9.078125 75.984375 \nL 18.109375 75.984375 \nL 18.109375 46.1875 \nQ 21.34375 51.125 25.703125 53.5625 \nQ 30.078125 56 35.796875 56 \nQ 45.21875 56 50.046875 50.171875 \nQ 54.890625 44.34375 54.890625 33.015625 \nz\n\" id=\"DejaVuSans-104\"/>\n     </defs>\n     <g style=\"fill:#555555;\" transform=\"translate(204.290625 271.378)scale(0.12 -0.12)\">\n      <use xlink:href=\"#DejaVuSans-69\"/>\n      <use x=\"63.183594\" xlink:href=\"#DejaVuSans-112\"/>\n      <use x=\"126.660156\" xlink:href=\"#DejaVuSans-111\"/>\n      <use x=\"187.841797\" xlink:href=\"#DejaVuSans-99\"/>\n      <use x=\"242.822266\" xlink:href=\"#DejaVuSans-104\"/>\n     </g>\n    </g>\n   </g>\n   <g id=\"matplotlib.axis_2\">\n    <g id=\"ytick_1\">\n     <g id=\"line2d_13\">\n      <path clip-path=\"url(#pd360fdb3c1)\" d=\"M 55.26375 228.582134 \nL 390.06375 228.582134 \n\" style=\"fill:none;stroke:#ffffff;stroke-linecap:square;stroke-width:0.8;\"/>\n     </g>\n     <g id=\"line2d_14\">\n      <defs>\n       <path d=\"M 0 0 \nL -3.5 0 \n\" id=\"m83d6570f71\" style=\"stroke:#555555;stroke-width:0.8;\"/>\n      </defs>\n      <g>\n       <use style=\"fill:#555555;stroke:#555555;stroke-width:0.8;\" x=\"55.26375\" xlink:href=\"#m83d6570f71\" y=\"228.582134\"/>\n      </g>\n     </g>\n     <g id=\"text_8\">\n      <!-- 600 -->\n      <g style=\"fill:#555555;\" transform=\"translate(29.17625 232.381352)scale(0.1 -0.1)\">\n       <use xlink:href=\"#DejaVuSans-54\"/>\n       <use x=\"63.623047\" xlink:href=\"#DejaVuSans-48\"/>\n       <use x=\"127.246094\" xlink:href=\"#DejaVuSans-48\"/>\n      </g>\n     </g>\n    </g>\n    <g id=\"ytick_2\">\n     <g id=\"line2d_15\">\n      <path clip-path=\"url(#pd360fdb3c1)\" d=\"M 55.26375 203.594956 \nL 390.06375 203.594956 \n\" style=\"fill:none;stroke:#ffffff;stroke-linecap:square;stroke-width:0.8;\"/>\n     </g>\n     <g id=\"line2d_16\">\n      <g>\n       <use style=\"fill:#555555;stroke:#555555;stroke-width:0.8;\" x=\"55.26375\" xlink:href=\"#m83d6570f71\" y=\"203.594956\"/>\n      </g>\n     </g>\n     <g id=\"text_9\">\n      <!-- 800 -->\n      <g style=\"fill:#555555;\" transform=\"translate(29.17625 207.394175)scale(0.1 -0.1)\">\n       <use xlink:href=\"#DejaVuSans-56\"/>\n       <use x=\"63.623047\" xlink:href=\"#DejaVuSans-48\"/>\n       <use x=\"127.246094\" xlink:href=\"#DejaVuSans-48\"/>\n      </g>\n     </g>\n    </g>\n    <g id=\"ytick_3\">\n     <g id=\"line2d_17\">\n      <path clip-path=\"url(#pd360fdb3c1)\" d=\"M 55.26375 178.607779 \nL 390.06375 178.607779 \n\" style=\"fill:none;stroke:#ffffff;stroke-linecap:square;stroke-width:0.8;\"/>\n     </g>\n     <g id=\"line2d_18\">\n      <g>\n       <use style=\"fill:#555555;stroke:#555555;stroke-width:0.8;\" x=\"55.26375\" xlink:href=\"#m83d6570f71\" y=\"178.607779\"/>\n      </g>\n     </g>\n     <g id=\"text_10\">\n      <!-- 1000 -->\n      <g style=\"fill:#555555;\" transform=\"translate(22.81375 182.406998)scale(0.1 -0.1)\">\n       <use xlink:href=\"#DejaVuSans-49\"/>\n       <use x=\"63.623047\" xlink:href=\"#DejaVuSans-48\"/>\n       <use x=\"127.246094\" xlink:href=\"#DejaVuSans-48\"/>\n       <use x=\"190.869141\" xlink:href=\"#DejaVuSans-48\"/>\n      </g>\n     </g>\n    </g>\n    <g id=\"ytick_4\">\n     <g id=\"line2d_19\">\n      <path clip-path=\"url(#pd360fdb3c1)\" d=\"M 55.26375 153.620602 \nL 390.06375 153.620602 \n\" style=\"fill:none;stroke:#ffffff;stroke-linecap:square;stroke-width:0.8;\"/>\n     </g>\n     <g id=\"line2d_20\">\n      <g>\n       <use style=\"fill:#555555;stroke:#555555;stroke-width:0.8;\" x=\"55.26375\" xlink:href=\"#m83d6570f71\" y=\"153.620602\"/>\n      </g>\n     </g>\n     <g id=\"text_11\">\n      <!-- 1200 -->\n      <g style=\"fill:#555555;\" transform=\"translate(22.81375 157.41982)scale(0.1 -0.1)\">\n       <use xlink:href=\"#DejaVuSans-49\"/>\n       <use x=\"63.623047\" xlink:href=\"#DejaVuSans-50\"/>\n       <use x=\"127.246094\" xlink:href=\"#DejaVuSans-48\"/>\n       <use x=\"190.869141\" xlink:href=\"#DejaVuSans-48\"/>\n      </g>\n     </g>\n    </g>\n    <g id=\"ytick_5\">\n     <g id=\"line2d_21\">\n      <path clip-path=\"url(#pd360fdb3c1)\" d=\"M 55.26375 128.633424 \nL 390.06375 128.633424 \n\" style=\"fill:none;stroke:#ffffff;stroke-linecap:square;stroke-width:0.8;\"/>\n     </g>\n     <g id=\"line2d_22\">\n      <g>\n       <use style=\"fill:#555555;stroke:#555555;stroke-width:0.8;\" x=\"55.26375\" xlink:href=\"#m83d6570f71\" y=\"128.633424\"/>\n      </g>\n     </g>\n     <g id=\"text_12\">\n      <!-- 1400 -->\n      <g style=\"fill:#555555;\" transform=\"translate(22.81375 132.432643)scale(0.1 -0.1)\">\n       <use xlink:href=\"#DejaVuSans-49\"/>\n       <use x=\"63.623047\" xlink:href=\"#DejaVuSans-52\"/>\n       <use x=\"127.246094\" xlink:href=\"#DejaVuSans-48\"/>\n       <use x=\"190.869141\" xlink:href=\"#DejaVuSans-48\"/>\n      </g>\n     </g>\n    </g>\n    <g id=\"ytick_6\">\n     <g id=\"line2d_23\">\n      <path clip-path=\"url(#pd360fdb3c1)\" d=\"M 55.26375 103.646247 \nL 390.06375 103.646247 \n\" style=\"fill:none;stroke:#ffffff;stroke-linecap:square;stroke-width:0.8;\"/>\n     </g>\n     <g id=\"line2d_24\">\n      <g>\n       <use style=\"fill:#555555;stroke:#555555;stroke-width:0.8;\" x=\"55.26375\" xlink:href=\"#m83d6570f71\" y=\"103.646247\"/>\n      </g>\n     </g>\n     <g id=\"text_13\">\n      <!-- 1600 -->\n      <g style=\"fill:#555555;\" transform=\"translate(22.81375 107.445466)scale(0.1 -0.1)\">\n       <use xlink:href=\"#DejaVuSans-49\"/>\n       <use x=\"63.623047\" xlink:href=\"#DejaVuSans-54\"/>\n       <use x=\"127.246094\" xlink:href=\"#DejaVuSans-48\"/>\n       <use x=\"190.869141\" xlink:href=\"#DejaVuSans-48\"/>\n      </g>\n     </g>\n    </g>\n    <g id=\"ytick_7\">\n     <g id=\"line2d_25\">\n      <path clip-path=\"url(#pd360fdb3c1)\" d=\"M 55.26375 78.65907 \nL 390.06375 78.65907 \n\" style=\"fill:none;stroke:#ffffff;stroke-linecap:square;stroke-width:0.8;\"/>\n     </g>\n     <g id=\"line2d_26\">\n      <g>\n       <use style=\"fill:#555555;stroke:#555555;stroke-width:0.8;\" x=\"55.26375\" xlink:href=\"#m83d6570f71\" y=\"78.65907\"/>\n      </g>\n     </g>\n     <g id=\"text_14\">\n      <!-- 1800 -->\n      <g style=\"fill:#555555;\" transform=\"translate(22.81375 82.458289)scale(0.1 -0.1)\">\n       <use xlink:href=\"#DejaVuSans-49\"/>\n       <use x=\"63.623047\" xlink:href=\"#DejaVuSans-56\"/>\n       <use x=\"127.246094\" xlink:href=\"#DejaVuSans-48\"/>\n       <use x=\"190.869141\" xlink:href=\"#DejaVuSans-48\"/>\n      </g>\n     </g>\n    </g>\n    <g id=\"ytick_8\">\n     <g id=\"line2d_27\">\n      <path clip-path=\"url(#pd360fdb3c1)\" d=\"M 55.26375 53.671893 \nL 390.06375 53.671893 \n\" style=\"fill:none;stroke:#ffffff;stroke-linecap:square;stroke-width:0.8;\"/>\n     </g>\n     <g id=\"line2d_28\">\n      <g>\n       <use style=\"fill:#555555;stroke:#555555;stroke-width:0.8;\" x=\"55.26375\" xlink:href=\"#m83d6570f71\" y=\"53.671893\"/>\n      </g>\n     </g>\n     <g id=\"text_15\">\n      <!-- 2000 -->\n      <g style=\"fill:#555555;\" transform=\"translate(22.81375 57.471111)scale(0.1 -0.1)\">\n       <use xlink:href=\"#DejaVuSans-50\"/>\n       <use x=\"63.623047\" xlink:href=\"#DejaVuSans-48\"/>\n       <use x=\"127.246094\" xlink:href=\"#DejaVuSans-48\"/>\n       <use x=\"190.869141\" xlink:href=\"#DejaVuSans-48\"/>\n      </g>\n     </g>\n    </g>\n    <g id=\"ytick_9\">\n     <g id=\"line2d_29\">\n      <path clip-path=\"url(#pd360fdb3c1)\" d=\"M 55.26375 28.684715 \nL 390.06375 28.684715 \n\" style=\"fill:none;stroke:#ffffff;stroke-linecap:square;stroke-width:0.8;\"/>\n     </g>\n     <g id=\"line2d_30\">\n      <g>\n       <use style=\"fill:#555555;stroke:#555555;stroke-width:0.8;\" x=\"55.26375\" xlink:href=\"#m83d6570f71\" y=\"28.684715\"/>\n      </g>\n     </g>\n     <g id=\"text_16\">\n      <!-- 2200 -->\n      <g style=\"fill:#555555;\" transform=\"translate(22.81375 32.483934)scale(0.1 -0.1)\">\n       <use xlink:href=\"#DejaVuSans-50\"/>\n       <use x=\"63.623047\" xlink:href=\"#DejaVuSans-50\"/>\n       <use x=\"127.246094\" xlink:href=\"#DejaVuSans-48\"/>\n       <use x=\"190.869141\" xlink:href=\"#DejaVuSans-48\"/>\n      </g>\n     </g>\n    </g>\n    <g id=\"text_17\">\n     <!-- Loss -->\n     <defs>\n      <path d=\"M 9.8125 72.90625 \nL 19.671875 72.90625 \nL 19.671875 8.296875 \nL 55.171875 8.296875 \nL 55.171875 0 \nL 9.8125 0 \nz\n\" id=\"DejaVuSans-76\"/>\n      <path d=\"M 44.28125 53.078125 \nL 44.28125 44.578125 \nQ 40.484375 46.53125 36.375 47.5 \nQ 32.28125 48.484375 27.875 48.484375 \nQ 21.1875 48.484375 17.84375 46.4375 \nQ 14.5 44.390625 14.5 40.28125 \nQ 14.5 37.15625 16.890625 35.375 \nQ 19.28125 33.59375 26.515625 31.984375 \nL 29.59375 31.296875 \nQ 39.15625 29.25 43.1875 25.515625 \nQ 47.21875 21.78125 47.21875 15.09375 \nQ 47.21875 7.46875 41.1875 3.015625 \nQ 35.15625 -1.421875 24.609375 -1.421875 \nQ 20.21875 -1.421875 15.453125 -0.5625 \nQ 10.6875 0.296875 5.421875 2 \nL 5.421875 11.28125 \nQ 10.40625 8.6875 15.234375 7.390625 \nQ 20.0625 6.109375 24.8125 6.109375 \nQ 31.15625 6.109375 34.5625 8.28125 \nQ 37.984375 10.453125 37.984375 14.40625 \nQ 37.984375 18.0625 35.515625 20.015625 \nQ 33.0625 21.96875 24.703125 23.78125 \nL 21.578125 24.515625 \nQ 13.234375 26.265625 9.515625 29.90625 \nQ 5.8125 33.546875 5.8125 39.890625 \nQ 5.8125 47.609375 11.28125 51.796875 \nQ 16.75 56 26.8125 56 \nQ 31.78125 56 36.171875 55.265625 \nQ 40.578125 54.546875 44.28125 53.078125 \nz\n\" id=\"DejaVuSans-115\"/>\n     </defs>\n     <g style=\"fill:#555555;\" transform=\"translate(16.318125 146.022375)rotate(-90)scale(0.12 -0.12)\">\n      <use xlink:href=\"#DejaVuSans-76\"/>\n      <use x=\"53.962891\" xlink:href=\"#DejaVuSans-111\"/>\n      <use x=\"115.144531\" xlink:href=\"#DejaVuSans-115\"/>\n      <use x=\"167.244141\" xlink:href=\"#DejaVuSans-115\"/>\n     </g>\n    </g>\n   </g>\n   <g id=\"line2d_31\">\n    <path clip-path=\"url(#pd360fdb3c1)\" d=\"M 70.481932 227.784152 \nL 70.7866 228.011748 \nL 71.091268 227.303015 \nL 71.395937 227.991606 \nL 71.700605 228.402477 \nL 72.309942 227.876182 \nL 72.61461 228.478783 \nL 72.919278 228.430844 \nL 73.223947 227.827862 \nL 73.528615 228.231417 \nL 73.833283 227.759502 \nL 74.137951 227.702575 \nL 74.44262 228.465154 \nL 74.747288 228.546899 \nL 75.051956 227.745196 \nL 75.356625 227.419436 \nL 75.661293 227.460512 \nL 75.965961 228.060673 \nL 76.27063 228.206426 \nL 76.575298 228.058304 \nL 77.184635 228.182853 \nL 77.489303 227.922031 \nL 77.793971 226.900059 \nL 78.098639 228.267196 \nL 78.403308 228.501293 \nL 79.012644 228.419665 \nL 79.317313 228.542695 \nL 79.621981 227.607302 \nL 79.926649 228.167597 \nL 80.231318 228.384196 \nL 80.535986 227.730484 \nL 80.840654 228.177892 \nL 81.145322 228.320829 \nL 81.449991 227.551799 \nL 81.754659 227.770325 \nL 82.059327 228.53941 \nL 82.363996 228.940399 \nL 82.668664 227.789877 \nL 83.278001 228.844964 \nL 83.582669 228.350558 \nL 83.887337 228.552099 \nL 84.192006 227.894122 \nL 84.496674 229.058401 \nL 84.801342 228.386037 \nL 85.10601 228.736987 \nL 85.410679 228.59622 \nL 85.715347 228.738797 \nL 86.020015 228.660361 \nL 86.324684 228.834583 \nL 86.629352 227.641373 \nL 87.238689 228.467477 \nL 87.543357 228.542964 \nL 87.848025 229.017772 \nL 88.152693 228.344956 \nL 88.457362 228.841115 \nL 88.76203 228.497938 \nL 89.066698 228.671423 \nL 89.371367 228.664468 \nL 89.676035 228.468072 \nL 89.980703 228.770091 \nL 90.285372 228.627963 \nL 90.59004 228.684315 \nL 90.894708 228.430132 \nL 91.199377 229.021626 \nL 91.504045 229.168009 \nL 91.808713 229.454275 \nL 92.113381 228.624597 \nL 92.41805 228.618522 \nL 92.722718 228.314901 \nL 93.027386 229.293128 \nL 93.332055 229.248977 \nL 93.636723 228.920476 \nL 93.941391 229.209101 \nL 94.24606 228.760224 \nL 94.855396 229.278162 \nL 95.160064 228.391929 \nL 95.464733 229.612184 \nL 95.769401 228.244559 \nL 96.074069 228.258376 \nL 96.378738 229.013609 \nL 96.683406 229.120442 \nL 96.988074 228.253567 \nL 97.292743 229.058309 \nL 97.597411 228.057851 \nL 97.902079 229.457544 \nL 98.206748 228.928859 \nL 98.511416 227.952081 \nL 98.816084 228.824329 \nL 99.120752 228.284379 \nL 99.425421 229.052992 \nL 99.730089 228.88576 \nL 100.034757 228.143933 \nL 100.339426 228.78947 \nL 100.644094 228.621669 \nL 100.948762 228.665485 \nL 101.253431 228.924289 \nL 101.558099 228.640509 \nL 101.862767 229.386922 \nL 102.167436 228.77945 \nL 102.472104 228.932214 \nL 102.776772 228.556085 \nL 103.08144 229.01187 \nL 103.386109 228.680965 \nL 103.690777 228.870529 \nL 103.995445 228.79007 \nL 104.604782 228.097458 \nL 104.90945 229.088181 \nL 105.214119 229.143506 \nL 105.823455 228.972065 \nL 106.128123 229.597085 \nL 106.432792 229.256333 \nL 106.73746 228.181618 \nL 107.042128 228.907833 \nL 107.346797 229.256943 \nL 107.651465 229.133979 \nL 107.956133 229.246491 \nL 108.260802 227.867916 \nL 108.870138 229.5427 \nL 109.174807 228.64266 \nL 109.479475 229.36707 \nL 109.784143 229.154919 \nL 110.088811 228.50869 \nL 110.39348 228.336679 \nL 110.698148 227.366815 \nL 111.002816 229.409854 \nL 111.307485 228.851186 \nL 111.612153 229.364203 \nL 111.916821 229.340462 \nL 112.526158 228.255473 \nL 112.830826 229.405492 \nL 113.440163 228.853306 \nL 113.744831 228.653864 \nL 114.049499 229.411888 \nL 114.354168 229.630703 \nL 114.658836 228.162834 \nL 114.963504 228.875928 \nL 115.572841 229.321109 \nL 115.877509 229.164832 \nL 116.182178 228.785002 \nL 116.791514 229.187449 \nL 117.096182 229.004346 \nL 117.400851 229.216126 \nL 117.705519 228.918204 \nL 118.010187 229.414923 \nL 118.314856 228.796664 \nL 118.619524 229.496912 \nL 118.924192 229.263653 \nL 119.228861 228.716027 \nL 119.533529 228.640402 \nL 119.838197 229.062783 \nL 120.142865 228.505264 \nL 120.752202 229.39169 \nL 121.970875 229.251656 \nL 122.275544 229.447224 \nL 122.580212 229.132546 \nL 122.88488 229.33729 \nL 123.189549 228.619376 \nL 123.494217 229.497542 \nL 123.798885 229.352744 \nL 124.408222 229.589658 \nL 124.71289 229.250741 \nL 125.017558 228.644866 \nL 125.626895 229.53026 \nL 126.236232 229.072355 \nL 126.5409 228.971486 \nL 126.845568 229.338149 \nL 127.150236 228.546787 \nL 127.454905 229.976133 \nL 127.759573 228.969752 \nL 128.064241 229.31297 \nL 128.36891 229.011158 \nL 128.978246 229.444138 \nL 129.282915 229.093417 \nL 129.587583 228.987824 \nL 129.892251 229.478605 \nL 130.19692 229.350985 \nL 130.501588 229.672293 \nL 130.806256 229.348266 \nL 131.110924 229.365021 \nL 131.415593 229.528507 \nL 131.720261 229.987622 \nL 132.024929 228.808224 \nL 132.329598 229.631237 \nL 132.634266 229.872889 \nL 132.938934 229.662857 \nL 133.243603 229.032494 \nL 133.548271 229.533697 \nL 133.852939 229.127965 \nL 134.157607 229.564479 \nL 134.462276 229.576883 \nL 134.766944 229.785023 \nL 135.071612 229.644892 \nL 135.376281 229.846443 \nL 135.680949 228.812362 \nL 135.985617 229.360909 \nL 136.290286 228.951293 \nL 136.594954 229.682612 \nL 136.899622 229.201023 \nL 137.204291 228.461773 \nL 137.508959 229.374391 \nL 137.813627 229.021748 \nL 138.422964 229.379057 \nL 138.727632 229.909567 \nL 139.0323 229.355937 \nL 139.336969 229.802709 \nL 139.946305 228.660828 \nL 140.250974 228.905769 \nL 140.555642 229.603002 \nL 140.86031 228.966931 \nL 141.469647 228.857154 \nL 142.078983 229.455017 \nL 142.383652 230.031799 \nL 142.68832 229.274014 \nL 143.297657 228.908311 \nL 143.602325 229.937568 \nL 144.51633 229.435557 \nL 144.820998 229.21633 \nL 145.125666 229.626774 \nL 145.430335 229.317088 \nL 145.735003 229.22425 \nL 147.258345 229.707161 \nL 147.563013 230.104347 \nL 148.17235 228.912012 \nL 148.477018 229.815642 \nL 148.781686 230.054644 \nL 149.086354 229.667255 \nL 149.391023 229.70493 \nL 149.695691 229.898322 \nL 150.000359 229.518721 \nL 150.305028 229.832352 \nL 150.609696 228.682063 \nL 150.914364 228.84109 \nL 151.219033 230.016588 \nL 151.523701 229.294094 \nL 151.828369 229.610008 \nL 152.133037 228.968079 \nL 152.437706 228.99179 \nL 152.742374 229.460472 \nL 153.047042 229.659055 \nL 153.351711 229.365865 \nL 153.656379 229.761811 \nL 153.961047 229.237325 \nL 154.265716 229.754673 \nL 154.570384 229.387776 \nL 154.875052 229.495854 \nL 155.179721 230.018754 \nL 155.789057 229.474066 \nL 156.093725 229.231814 \nL 156.703062 229.933201 \nL 157.312399 229.734766 \nL 157.617067 230.033364 \nL 157.921735 229.132048 \nL 158.226404 230.019633 \nL 158.531072 229.953876 \nL 158.83574 230.262998 \nL 159.140408 229.905637 \nL 159.445077 229.936917 \nL 159.749745 229.172371 \nL 160.054413 229.45855 \nL 160.359082 229.922383 \nL 160.66375 229.393292 \nL 160.968418 229.375997 \nL 161.273087 229.922978 \nL 161.577755 229.467274 \nL 162.187092 230.070551 \nL 162.49176 228.865369 \nL 163.101096 229.746667 \nL 163.405765 229.192238 \nL 163.710433 229.520154 \nL 164.015101 229.572145 \nL 164.31977 228.822367 \nL 164.929106 230.135332 \nL 165.233775 229.575307 \nL 165.538443 229.917198 \nL 166.147779 230.051269 \nL 166.452448 228.640987 \nL 166.757116 229.446995 \nL 167.061784 229.639579 \nL 167.366453 230.073662 \nL 167.975789 228.600765 \nL 168.280458 229.885059 \nL 168.585126 229.238449 \nL 168.889794 229.955127 \nL 169.499131 229.213991 \nL 170.108467 229.957455 \nL 170.717804 228.961018 \nL 171.022472 229.564316 \nL 171.327141 229.861776 \nL 171.631809 229.508807 \nL 171.936477 229.513586 \nL 172.241146 229.245433 \nL 172.545814 229.878501 \nL 172.850482 229.846565 \nL 173.15515 229.242688 \nL 173.764487 230.350655 \nL 174.069155 230.45243 \nL 174.678492 229.707324 \nL 174.98316 229.694351 \nL 175.592497 230.143003 \nL 175.897165 229.494146 \nL 176.201834 229.194836 \nL 176.506502 229.183825 \nL 177.115838 229.740276 \nL 177.420507 229.18777 \nL 177.725175 230.063129 \nL 178.029843 229.796242 \nL 178.334512 229.765318 \nL 178.63918 229.387018 \nL 178.943848 229.693009 \nL 179.248517 229.106274 \nL 179.553185 230.17862 \nL 179.857853 229.451942 \nL 180.162521 230.121134 \nL 180.46719 229.938925 \nL 180.771858 230.090001 \nL 181.076526 229.815392 \nL 181.381195 230.127325 \nL 181.685863 228.577172 \nL 181.990531 229.608732 \nL 182.2952 229.341052 \nL 182.599868 229.724329 \nL 182.904536 230.307587 \nL 183.209205 229.947059 \nL 183.513873 229.896304 \nL 183.818541 229.987154 \nL 184.123209 229.01945 \nL 184.427878 229.686186 \nL 184.732546 229.149317 \nL 185.341883 229.995059 \nL 185.646551 228.791926 \nL 185.951219 229.24706 \nL 186.255888 230.074593 \nL 186.560556 229.658562 \nL 186.865224 229.46641 \nL 187.169893 229.807731 \nL 187.474561 229.005165 \nL 187.779229 230.19869 \nL 188.083897 229.505401 \nL 188.388566 229.887169 \nL 188.693234 229.753702 \nL 188.997902 229.270928 \nL 189.302571 230.021896 \nL 189.607239 229.450315 \nL 189.911907 229.716449 \nL 190.216576 229.499362 \nL 190.521244 230.029374 \nL 190.825912 230.028026 \nL 191.13058 230.480894 \nL 191.435249 229.700283 \nL 191.739917 229.992329 \nL 192.044585 229.803944 \nL 192.349254 229.101805 \nL 192.653922 229.058162 \nL 192.95859 230.306341 \nL 193.263259 230.376323 \nL 193.567927 230.136893 \nL 193.872595 229.676746 \nL 194.177264 229.920782 \nL 194.481932 229.858207 \nL 194.7866 230.424984 \nL 195.091268 229.98116 \nL 195.395937 230.160344 \nL 195.700605 230.170867 \nL 196.005273 229.680401 \nL 196.309942 229.470268 \nL 196.61461 229.734222 \nL 196.919278 229.776253 \nL 197.223947 230.044808 \nL 197.528615 229.161106 \nL 197.833283 229.882065 \nL 198.137951 229.670356 \nL 198.44262 230.233289 \nL 198.747288 229.771017 \nL 199.356625 230.47247 \nL 199.661293 230.509606 \nL 199.965961 229.687452 \nL 200.27063 230.33177 \nL 200.575298 229.558693 \nL 200.879966 230.007178 \nL 201.184635 229.989187 \nL 201.489303 230.103087 \nL 201.793971 229.514613 \nL 202.098639 229.65361 \nL 202.403308 230.171996 \nL 202.707976 230.195014 \nL 203.012644 229.845483 \nL 203.317313 230.37556 \nL 203.621981 230.404756 \nL 203.926649 230.117834 \nL 204.231318 229.006761 \nL 204.535986 230.881791 \nL 204.840654 230.513327 \nL 205.145322 229.905515 \nL 205.449991 230.470538 \nL 205.754659 229.909633 \nL 206.059327 229.925321 \nL 206.363996 230.450986 \nL 206.668664 230.332664 \nL 206.973332 230.45999 \nL 207.278001 230.435715 \nL 207.582669 230.999935 \nL 207.887337 229.808545 \nL 208.192006 229.82525 \nL 208.496674 230.305894 \nL 209.10601 230.480599 \nL 209.410679 229.579211 \nL 210.020015 230.468673 \nL 210.324684 230.142698 \nL 210.629352 229.196808 \nL 210.93402 230.374193 \nL 211.238689 230.528461 \nL 211.848025 229.183738 \nL 212.152693 230.349268 \nL 212.76203 228.996548 \nL 213.066698 229.301257 \nL 213.371367 230.422498 \nL 213.676035 230.632564 \nL 214.285372 229.633911 \nL 214.59004 229.532807 \nL 215.199377 230.607289 \nL 215.504045 230.104378 \nL 215.808713 229.997865 \nL 216.113381 229.29445 \nL 216.41805 229.908306 \nL 216.722718 229.617389 \nL 217.027386 229.774708 \nL 217.332055 230.430662 \nL 217.636723 230.563091 \nL 217.941391 230.390694 \nL 218.24606 229.640616 \nL 218.550728 229.669537 \nL 218.855396 230.474702 \nL 219.160064 230.117473 \nL 219.769401 230.257238 \nL 220.074069 230.672583 \nL 220.378738 230.397603 \nL 220.683406 230.500872 \nL 221.292743 230.162525 \nL 221.597411 230.456863 \nL 222.511416 230.381061 \nL 222.816084 230.034564 \nL 223.120752 230.41564 \nL 223.425421 230.178904 \nL 223.730089 230.395204 \nL 224.034757 230.231642 \nL 224.339426 230.67027 \nL 224.644094 230.761425 \nL 224.948762 229.92521 \nL 225.558099 230.693157 \nL 225.862767 229.077968 \nL 226.167436 230.006431 \nL 226.472104 229.916318 \nL 226.776772 230.16374 \nL 227.08144 229.596058 \nL 227.386109 229.975217 \nL 227.690777 230.063068 \nL 227.995445 230.362114 \nL 228.300114 230.174746 \nL 228.604782 230.782914 \nL 228.90945 230.091028 \nL 229.214119 229.986478 \nL 229.518787 230.396185 \nL 229.823455 230.054075 \nL 230.128123 230.687193 \nL 230.432792 229.538847 \nL 230.73746 230.1683 \nL 231.042128 230.262413 \nL 231.346797 230.06622 \nL 231.956133 229.955183 \nL 232.260802 230.62806 \nL 232.56547 230.287486 \nL 232.870138 230.186403 \nL 233.784143 231.002024 \nL 234.088811 230.181715 \nL 235.002816 230.133385 \nL 235.307485 230.515437 \nL 235.612153 230.354722 \nL 235.916821 230.544363 \nL 236.22149 229.837181 \nL 236.526158 230.907519 \nL 236.830826 230.0981 \nL 237.135494 230.921845 \nL 237.744831 230.444906 \nL 238.049499 230.277558 \nL 238.354168 230.260563 \nL 238.658836 230.847349 \nL 239.268173 230.391213 \nL 240.182178 231.063155 \nL 240.486846 230.549243 \nL 240.791514 230.347361 \nL 241.096182 230.453193 \nL 241.400851 230.389744 \nL 241.705519 230.623582 \nL 242.010187 230.402921 \nL 242.619524 230.497736 \nL 242.924192 230.815754 \nL 243.228861 230.106071 \nL 243.533529 230.524623 \nL 243.838197 230.301883 \nL 244.142865 231.109894 \nL 244.447534 230.239125 \nL 244.752202 230.240462 \nL 245.05687 230.540255 \nL 245.361539 230.583299 \nL 245.666207 230.192894 \nL 245.970875 230.881216 \nL 246.275544 230.277425 \nL 246.580212 230.606729 \nL 247.494217 230.692282 \nL 247.798885 230.902928 \nL 248.408222 230.952016 \nL 248.71289 230.365302 \nL 249.017558 230.047609 \nL 249.322227 230.722993 \nL 249.626895 230.473812 \nL 249.931563 230.758431 \nL 250.236232 230.429594 \nL 250.5409 230.807707 \nL 250.845568 230.857674 \nL 251.150236 230.731818 \nL 251.454905 230.806181 \nL 251.759573 230.433204 \nL 252.36891 230.622067 \nL 252.673578 230.810965 \nL 252.978246 230.656656 \nL 253.282915 230.884246 \nL 253.587583 230.967659 \nL 253.892251 230.869498 \nL 254.19692 230.222497 \nL 254.806256 230.262551 \nL 255.720261 231.102309 \nL 256.024929 229.972152 \nL 256.329598 230.590131 \nL 256.634266 230.404217 \nL 256.938934 230.828321 \nL 257.243603 230.388646 \nL 257.548271 230.778414 \nL 257.852939 230.538741 \nL 258.157607 230.1036 \nL 258.462276 230.620806 \nL 258.766944 230.873469 \nL 259.071612 230.263537 \nL 259.376281 229.981272 \nL 259.680949 230.660621 \nL 259.985617 229.146155 \nL 260.594954 229.953886 \nL 260.899622 230.056088 \nL 261.204291 229.68004 \nL 261.508959 229.832204 \nL 261.813627 230.199076 \nL 262.118295 229.998709 \nL 262.727632 230.316143 \nL 263.0323 230.570305 \nL 263.336969 230.408548 \nL 263.946305 230.794128 \nL 264.250974 230.268483 \nL 264.555642 230.670061 \nL 264.86031 230.060033 \nL 265.469647 230.192447 \nL 265.774315 230.857689 \nL 266.078983 230.769589 \nL 266.383652 230.105817 \nL 266.68832 228.527932 \nL 266.992988 230.417353 \nL 267.297657 230.236558 \nL 267.602325 230.233254 \nL 267.906993 229.917487 \nL 268.51633 230.360823 \nL 268.820998 230.328089 \nL 269.125666 230.513983 \nL 269.430335 230.908109 \nL 269.735003 229.563863 \nL 270.039671 230.363182 \nL 270.34434 230.801876 \nL 270.953676 230.964629 \nL 271.258345 230.680356 \nL 271.563013 230.759569 \nL 271.867681 229.958894 \nL 272.17235 230.737547 \nL 272.477018 231.029913 \nL 272.781686 230.403409 \nL 273.086354 231.058137 \nL 273.391023 230.858797 \nL 273.695691 231.041361 \nL 274.000359 230.671139 \nL 274.305028 231.041392 \nL 274.609696 231.100378 \nL 274.914364 229.679903 \nL 275.219033 230.956744 \nL 275.523701 231.127519 \nL 275.828369 230.822856 \nL 276.133037 230.821697 \nL 276.437706 230.638004 \nL 276.742374 230.791785 \nL 277.047042 230.638004 \nL 277.351711 230.940786 \nL 277.656379 230.797366 \nL 277.961047 229.9632 \nL 278.265716 230.66448 \nL 278.570384 230.718321 \nL 278.875052 229.90095 \nL 279.484389 230.377731 \nL 279.789057 230.201166 \nL 280.093725 230.509016 \nL 280.703062 230.632849 \nL 281.00773 230.583655 \nL 281.312399 230.886864 \nL 281.617067 230.236863 \nL 282.226404 230.492866 \nL 282.531072 230.586481 \nL 282.83574 230.395453 \nL 283.140408 230.447535 \nL 283.445077 230.327576 \nL 283.749745 230.566965 \nL 284.359082 230.72739 \nL 284.66375 229.963942 \nL 284.968418 231.034768 \nL 285.273087 230.37494 \nL 285.577755 230.534806 \nL 285.882423 229.933582 \nL 286.187092 230.515742 \nL 286.49176 230.826943 \nL 287.101096 230.498432 \nL 287.405765 229.865665 \nL 287.710433 230.72253 \nL 288.015101 229.814208 \nL 288.31977 231.144804 \nL 288.929106 230.400384 \nL 289.233775 230.821275 \nL 289.538443 229.784341 \nL 289.843111 229.890605 \nL 290.147779 231.031753 \nL 290.452448 230.339782 \nL 291.061784 230.309351 \nL 291.366453 230.849708 \nL 291.671121 230.866235 \nL 291.975789 230.133441 \nL 292.585126 230.988395 \nL 292.889794 230.157065 \nL 293.194463 230.673264 \nL 293.499131 230.127041 \nL 293.803799 230.972905 \nL 294.108467 230.462913 \nL 294.413136 230.66661 \nL 294.717804 230.254961 \nL 295.022472 230.722855 \nL 295.327141 230.279464 \nL 295.631809 230.496973 \nL 295.936477 230.136476 \nL 296.241146 230.245978 \nL 296.545814 230.778603 \nL 296.850482 230.788018 \nL 297.15515 231.052266 \nL 297.764487 230.807778 \nL 298.069155 229.667585 \nL 298.373824 231.179205 \nL 298.678492 230.451627 \nL 298.98316 230.761405 \nL 299.592497 229.964054 \nL 299.897165 230.722942 \nL 300.201834 230.551806 \nL 300.506502 231.136253 \nL 300.81117 230.536122 \nL 301.115838 229.312512 \nL 301.420507 231.017697 \nL 301.725175 231.05675 \nL 302.029843 230.301263 \nL 302.334512 231.207775 \nL 302.63918 230.333742 \nL 302.943848 230.052911 \nL 303.248517 230.316417 \nL 303.553185 230.020925 \nL 303.857853 229.948843 \nL 304.162521 230.491996 \nL 304.46719 230.591382 \nL 304.771858 230.539071 \nL 305.381195 231.069128 \nL 305.685863 231.144433 \nL 306.2952 230.12912 \nL 306.599868 230.734731 \nL 306.904536 230.221602 \nL 307.209205 230.212207 \nL 307.513873 230.772639 \nL 308.427878 230.208201 \nL 309.037214 230.949886 \nL 309.341883 230.336686 \nL 309.646551 230.983189 \nL 310.255888 229.98573 \nL 310.865224 231.088289 \nL 311.169893 230.34335 \nL 311.474561 230.327261 \nL 311.779229 229.092426 \nL 312.083897 230.342679 \nL 312.388566 230.256608 \nL 313.607239 231.040268 \nL 314.216576 230.382967 \nL 314.521244 230.819679 \nL 314.825912 229.697314 \nL 315.13058 230.167263 \nL 315.435249 229.639122 \nL 315.739917 230.551551 \nL 316.044585 230.92671 \nL 316.349254 229.762223 \nL 316.653922 230.126756 \nL 316.95859 230.071156 \nL 317.567927 230.904499 \nL 317.872595 230.17255 \nL 318.177264 231.253523 \nL 319.091268 230.212273 \nL 319.395937 230.066428 \nL 320.005273 230.430067 \nL 320.309942 230.339654 \nL 320.61461 230.094348 \nL 320.919278 230.650642 \nL 321.528615 230.645182 \nL 322.137951 230.907082 \nL 322.44262 231.050304 \nL 323.356625 230.946572 \nL 323.661293 230.277171 \nL 323.965961 230.907041 \nL 324.27063 230.819475 \nL 324.575298 231.089534 \nL 324.879966 231.105029 \nL 325.184635 230.947263 \nL 326.098639 230.927762 \nL 326.403308 230.837054 \nL 327.317313 231.341302 \nL 327.621981 230.315863 \nL 327.926649 230.892482 \nL 328.231318 230.563452 \nL 328.535986 230.759681 \nL 328.840654 230.474071 \nL 329.145322 230.512351 \nL 329.449991 230.752691 \nL 329.754659 230.723775 \nL 330.059327 231.063201 \nL 330.363996 230.896909 \nL 330.668664 231.255322 \nL 330.973332 230.567173 \nL 331.278001 230.88295 \nL 331.582669 230.933197 \nL 331.887337 230.723674 \nL 332.496674 231.041565 \nL 332.801342 230.451027 \nL 333.10601 231.300247 \nL 333.715347 230.626617 \nL 334.020015 231.334922 \nL 334.324684 230.957171 \nL 334.629352 230.951177 \nL 334.93402 230.767602 \nL 335.238689 231.187537 \nL 335.543357 231.1303 \nL 335.848025 231.420256 \nL 336.152693 230.327911 \nL 336.457362 230.576492 \nL 336.76203 230.567977 \nL 337.066698 231.022699 \nL 337.371367 230.85621 \nL 337.676035 230.135734 \nL 337.980703 230.960714 \nL 338.285372 231.023152 \nL 338.59004 230.437413 \nL 339.199377 231.077328 \nL 339.504045 230.641781 \nL 339.808713 231.007352 \nL 340.113381 230.803873 \nL 340.41805 231.133945 \nL 340.722718 231.257218 \nL 341.027386 230.825357 \nL 341.332055 231.145881 \nL 341.636723 230.910747 \nL 341.941391 231.279973 \nL 342.24606 230.989559 \nL 342.550728 230.527851 \nL 342.855396 231.338776 \nL 343.464733 231.088345 \nL 343.769401 231.513923 \nL 344.683406 230.921829 \nL 345.597411 231.077679 \nL 345.902079 231.05283 \nL 346.511416 231.698114 \nL 346.816084 231.6681 \nL 347.120752 231.46664 \nL 347.425421 229.642309 \nL 347.730089 230.46515 \nL 348.034757 230.206285 \nL 348.339426 230.193367 \nL 348.644094 230.016532 \nL 348.948762 230.340793 \nL 349.253431 230.490303 \nL 349.558099 231.159922 \nL 349.862767 230.15709 \nL 350.167436 231.139288 \nL 350.472104 230.552492 \nL 350.776772 230.588987 \nL 351.08144 230.994124 \nL 351.386109 230.779141 \nL 351.690777 230.893331 \nL 351.995445 230.723511 \nL 352.300114 230.923655 \nL 352.604782 230.529031 \nL 352.90945 231.299591 \nL 353.214119 231.107632 \nL 353.823455 230.988868 \nL 354.128123 230.726078 \nL 354.432792 231.055946 \nL 354.73746 230.731843 \nL 355.042128 230.760484 \nL 355.346797 230.664195 \nL 355.651465 230.906812 \nL 355.956133 230.940263 \nL 356.260802 231.516632 \nL 356.56547 230.640368 \nL 356.870138 230.740445 \nL 357.174807 231.399185 \nL 358.088811 231.179789 \nL 358.39348 231.582415 \nL 358.698148 231.667159 \nL 359.002816 230.752218 \nL 359.612153 231.038977 \nL 359.916821 230.722886 \nL 360.22149 231.179454 \nL 360.526158 230.701565 \nL 360.830826 231.012588 \nL 361.135494 230.614843 \nL 361.440163 230.755004 \nL 361.744831 231.024484 \nL 362.049499 231.460036 \nL 362.354168 231.293089 \nL 362.658836 229.206488 \nL 362.963504 230.816918 \nL 363.268173 231.326758 \nL 363.877509 229.769807 \nL 364.182178 230.38101 \nL 364.486846 230.559416 \nL 364.791514 229.75084 \nL 365.096182 230.531313 \nL 365.400851 230.443127 \nL 365.705519 230.958966 \nL 366.010187 230.820802 \nL 366.619524 231.205924 \nL 366.924192 229.34306 \nL 367.228861 231.092213 \nL 367.533529 230.676574 \nL 367.838197 230.714274 \nL 368.142865 230.318603 \nL 368.447534 230.919608 \nL 368.752202 230.696649 \nL 369.361539 230.686756 \nL 369.666207 230.941254 \nL 369.970875 231.350214 \nL 370.275544 231.246868 \nL 370.580212 230.945474 \nL 370.88488 229.909694 \nL 371.189549 231.090276 \nL 371.494217 230.735132 \nL 371.798885 230.827899 \nL 372.103553 230.662639 \nL 372.408222 231.176643 \nL 372.71289 231.467311 \nL 373.017558 231.101623 \nL 373.322227 231.625255 \nL 373.626895 230.720893 \nL 373.931563 229.197688 \nL 374.236232 230.747755 \nL 374.5409 230.645441 \nL 374.845568 230.733292 \nL 374.845568 230.733292 \n\" style=\"fill:none;stroke:#e24a33;stroke-linecap:square;stroke-opacity:0.7;stroke-width:2;\"/>\n   </g>\n   <g id=\"line2d_32\">\n    <path clip-path=\"url(#pd360fdb3c1)\" d=\"M 70.481932 97.373768 \nL 70.7866 99.500014 \nL 71.091268 96.162656 \nL 71.700605 92.647954 \nL 72.005273 90.734232 \nL 72.309942 87.107202 \nL 72.61461 89.262961 \nL 72.919278 86.375679 \nL 73.223947 95.438284 \nL 73.833283 98.438724 \nL 74.44262 89.232423 \nL 75.051956 84.591011 \nL 75.356625 86.96359 \nL 75.965961 100.465927 \nL 76.27063 102.085183 \nL 76.575298 94.830255 \nL 76.879966 94.62275 \nL 77.184635 85.155467 \nL 77.489303 83.628657 \nL 78.098639 96.369016 \nL 78.403308 101.860335 \nL 78.707976 101.833528 \nL 79.012644 99.641059 \nL 79.317313 95.645524 \nL 79.621981 94.671584 \nL 80.231318 85.463019 \nL 80.535986 91.467973 \nL 80.840654 85.621859 \nL 81.145322 88.466698 \nL 81.754659 98.765878 \nL 82.059327 99.868612 \nL 82.363996 98.630178 \nL 82.668664 95.469445 \nL 82.973332 94.093378 \nL 83.278001 93.97941 \nL 83.582669 87.152105 \nL 83.887337 84.141792 \nL 84.192006 85.202764 \nL 84.496674 87.77768 \nL 84.801342 93.976678 \nL 85.10601 93.276695 \nL 85.410679 93.790703 \nL 86.324684 84.080908 \nL 86.629352 83.809916 \nL 86.93402 88.170998 \nL 87.238689 95.616065 \nL 87.543357 96.798576 \nL 87.848025 100.278988 \nL 88.152693 98.547313 \nL 88.76203 89.645915 \nL 89.066698 88.937233 \nL 89.371367 85.874309 \nL 89.676035 91.942684 \nL 90.285372 98.302748 \nL 90.59004 98.538094 \nL 90.894708 93.234241 \nL 91.808713 87.41425 \nL 92.113381 92.163839 \nL 92.41805 92.671141 \nL 92.722718 97.175109 \nL 94.24606 84.89356 \nL 94.550728 92.127164 \nL 94.855396 94.421124 \nL 95.160064 92.897211 \nL 95.464733 86.830861 \nL 95.769401 83.832316 \nL 96.074069 86.458978 \nL 96.378738 94.657734 \nL 96.683406 98.925806 \nL 96.988074 97.063557 \nL 97.292743 98.512344 \nL 97.597411 94.006997 \nL 97.902079 94.227226 \nL 98.206748 91.73028 \nL 98.511416 90.576433 \nL 98.816084 92.713258 \nL 99.120752 87.829714 \nL 99.425421 86.708842 \nL 99.730089 90.011716 \nL 100.034757 91.039432 \nL 100.339426 91.357286 \nL 100.644094 93.891234 \nL 100.948762 83.214069 \nL 101.253431 79.576691 \nL 101.558099 81.008519 \nL 101.862767 80.504287 \nL 102.167436 87.624937 \nL 102.472104 91.024322 \nL 102.776772 96.819353 \nL 103.08144 97.478914 \nL 103.386109 93.606696 \nL 103.690777 94.610741 \nL 103.995445 81.266273 \nL 104.300114 77.369247 \nL 104.604782 87.109654 \nL 104.90945 91.681242 \nL 105.214119 94.088679 \nL 105.518787 95.447902 \nL 106.128123 88.620132 \nL 106.432792 86.492602 \nL 106.73746 82.057789 \nL 107.042128 87.118185 \nL 107.346797 87.706596 \nL 107.651465 93.5335 \nL 107.956133 96.816752 \nL 108.56547 93.156667 \nL 108.870138 87.923439 \nL 109.479475 85.220844 \nL 109.784143 84.391645 \nL 110.39348 98.746176 \nL 110.698148 97.947085 \nL 111.002816 94.853219 \nL 111.307485 94.339953 \nL 111.612153 87.99126 \nL 111.916821 85.572088 \nL 112.22149 81.022661 \nL 112.526158 88.875687 \nL 112.830826 89.441 \nL 113.135494 89.677211 \nL 113.440163 88.083652 \nL 113.744831 83.726701 \nL 114.049499 82.423063 \nL 114.354168 76.991315 \nL 114.658836 77.699179 \nL 114.963504 78.995999 \nL 115.572841 91.072495 \nL 115.877509 94.392342 \nL 116.182178 91.070862 \nL 116.486846 86.400826 \nL 116.791514 85.556544 \nL 117.096182 85.556329 \nL 117.400851 85.142221 \nL 117.705519 88.787823 \nL 118.010187 86.439868 \nL 118.314856 89.686287 \nL 118.924192 87.973188 \nL 119.228861 91.321748 \nL 119.533529 90.071939 \nL 119.838197 87.224748 \nL 120.142865 89.710405 \nL 120.447534 90.273999 \nL 120.752202 89.277172 \nL 121.05687 89.028107 \nL 121.361539 83.503775 \nL 121.666207 86.176524 \nL 121.970875 87.719239 \nL 122.275544 96.923884 \nL 122.580212 96.385482 \nL 122.88488 92.68182 \nL 123.189549 93.431486 \nL 123.494217 90.382192 \nL 123.798885 82.256015 \nL 124.103553 81.611495 \nL 124.408222 79.246551 \nL 124.71289 78.715293 \nL 125.017558 94.828622 \nL 125.322227 93.030328 \nL 125.626895 96.132079 \nL 125.931563 90.314218 \nL 126.236232 87.551375 \nL 126.5409 87.469367 \nL 126.845568 82.112291 \nL 127.150236 82.383344 \nL 127.454905 80.131593 \nL 127.759573 77.042885 \nL 128.064241 80.852703 \nL 128.673578 97.901867 \nL 128.978246 95.361179 \nL 129.282915 97.936198 \nL 129.587583 98.37714 \nL 130.19692 85.571388 \nL 130.501588 81.669279 \nL 130.806256 79.460486 \nL 131.110924 82.190211 \nL 131.415593 88.897499 \nL 131.720261 88.073784 \nL 132.024929 94.265281 \nL 132.329598 90.787039 \nL 132.634266 90.690063 \nL 132.938934 88.769454 \nL 133.243603 89.00188 \nL 133.548271 88.285412 \nL 133.852939 82.901491 \nL 134.157607 82.298442 \nL 134.462276 84.542965 \nL 134.766944 85.70147 \nL 135.071612 87.324672 \nL 135.376281 85.075645 \nL 135.680949 89.307718 \nL 135.985617 89.92156 \nL 136.290286 88.21333 \nL 136.594954 80.541289 \nL 136.899622 79.810454 \nL 137.204291 78.220334 \nL 137.813627 83.941769 \nL 138.118295 89.864937 \nL 138.422964 88.463678 \nL 138.727632 92.345279 \nL 139.0323 93.993847 \nL 139.336969 92.773148 \nL 139.641637 87.379696 \nL 139.946305 89.856821 \nL 140.555642 86.535603 \nL 140.86031 88.377112 \nL 141.164979 91.637746 \nL 141.469647 92.090024 \nL 141.774315 93.012609 \nL 142.078983 89.682571 \nL 142.383652 81.906588 \nL 142.68832 79.31393 \nL 142.992988 79.552804 \nL 143.297657 76.501605 \nL 143.602325 75.197437 \nL 143.906993 78.765922 \nL 144.211662 87.317701 \nL 144.51633 89.800195 \nL 144.820998 94.971357 \nL 145.125666 95.784432 \nL 145.735003 91.364183 \nL 146.039671 82.47202 \nL 146.34434 85.753631 \nL 146.649008 85.257781 \nL 146.953676 87.57444 \nL 147.258345 85.827666 \nL 147.563013 89.168652 \nL 147.867681 87.299871 \nL 148.17235 83.523534 \nL 148.477018 85.840074 \nL 148.781686 79.830129 \nL 149.086354 86.466633 \nL 149.391023 85.504463 \nL 149.695691 86.004345 \nL 150.000359 80.120707 \nL 150.305028 87.085106 \nL 150.914364 91.808868 \nL 151.219033 91.127765 \nL 151.523701 86.038153 \nL 151.828369 84.635165 \nL 152.133037 86.76266 \nL 152.742374 75.846687 \nL 153.047042 76.40426 \nL 153.656379 68.436665 \nL 153.961047 77.897811 \nL 154.265716 80.752664 \nL 154.875052 87.82744 \nL 155.484389 93.903996 \nL 155.789057 89.360898 \nL 156.093725 91.376811 \nL 156.398394 90.057548 \nL 156.703062 87.304132 \nL 157.00773 88.229746 \nL 157.617067 83.681272 \nL 157.921735 85.413716 \nL 158.226404 80.753391 \nL 158.531072 79.469954 \nL 158.83574 85.292623 \nL 159.140408 80.728713 \nL 159.445077 88.810011 \nL 159.749745 91.749785 \nL 160.054413 86.884014 \nL 160.359082 85.98397 \nL 160.66375 90.592245 \nL 160.968418 90.858806 \nL 161.273087 90.240633 \nL 161.577755 86.049812 \nL 162.49176 84.085285 \nL 162.796428 85.620983 \nL 163.101096 93.300363 \nL 163.405765 96.870485 \nL 163.710433 94.00516 \nL 164.015101 96.628376 \nL 164.31977 94.088268 \nL 164.624438 94.817966 \nL 164.929106 92.227552 \nL 165.233775 80.862836 \nL 165.538443 87.963193 \nL 165.843111 80.113452 \nL 166.147779 82.580032 \nL 166.452448 72.445854 \nL 166.757116 78.925907 \nL 167.061784 82.024865 \nL 167.366453 86.652338 \nL 167.671121 87.560575 \nL 167.975789 86.704684 \nL 168.280458 88.413545 \nL 168.585126 86.951286 \nL 168.889794 87.141476 \nL 169.194463 87.181075 \nL 169.499131 92.14529 \nL 169.803799 89.120936 \nL 170.108467 84.048817 \nL 170.717804 85.016693 \nL 171.022472 85.744816 \nL 171.327141 83.142936 \nL 171.631809 82.420838 \nL 171.936477 84.34602 \nL 172.241146 83.549642 \nL 172.545814 85.432565 \nL 172.850482 84.067496 \nL 173.15515 89.782745 \nL 173.459819 92.66429 \nL 173.764487 84.277995 \nL 174.069155 83.514127 \nL 174.373824 79.807249 \nL 174.678492 72.954336 \nL 174.98316 80.861584 \nL 175.287829 81.581998 \nL 175.592497 88.250359 \nL 175.897165 90.543331 \nL 176.201834 89.578605 \nL 176.506502 85.349911 \nL 176.81117 77.386182 \nL 177.115838 73.978908 \nL 177.420507 76.306854 \nL 178.029843 87.747844 \nL 178.334512 87.869191 \nL 178.63918 94.900443 \nL 178.943848 87.245638 \nL 179.248517 83.073451 \nL 179.553185 89.388677 \nL 179.857853 84.416369 \nL 180.162521 88.445448 \nL 180.46719 88.912332 \nL 180.771858 88.344283 \nL 181.076526 87.173006 \nL 181.381195 87.373079 \nL 181.685863 86.966161 \nL 181.990531 84.069141 \nL 182.2952 86.142849 \nL 182.599868 85.845055 \nL 182.904536 86.776767 \nL 183.209205 86.88511 \nL 183.513873 87.966528 \nL 183.818541 85.159463 \nL 184.123209 84.702029 \nL 184.427878 83.040845 \nL 184.732546 75.124543 \nL 185.037214 80.561429 \nL 185.341883 79.625863 \nL 186.255888 96.570458 \nL 186.560556 95.164564 \nL 186.865224 94.339573 \nL 187.169893 87.291904 \nL 187.474561 75.120182 \nL 187.779229 68.060017 \nL 188.083897 71.954518 \nL 188.388566 70.242272 \nL 188.997902 85.44183 \nL 189.302571 87.76189 \nL 189.607239 85.758289 \nL 189.911907 87.973599 \nL 190.216576 87.464806 \nL 190.825912 82.704088 \nL 191.13058 76.8639 \nL 191.435249 77.328344 \nL 191.739917 71.47707 \nL 192.044585 80.419754 \nL 192.349254 80.405794 \nL 192.653922 88.207193 \nL 192.95859 91.307875 \nL 193.263259 97.489819 \nL 193.567927 97.246972 \nL 193.872595 97.192255 \nL 194.177264 96.667161 \nL 194.481932 88.660723 \nL 195.091268 78.813391 \nL 195.395937 68.348347 \nL 195.700605 65.502463 \nL 196.005273 79.052438 \nL 196.61461 95.176553 \nL 196.919278 100.22645 \nL 197.223947 99.115815 \nL 197.528615 96.310814 \nL 197.833283 96.306771 \nL 198.137951 90.237582 \nL 198.44262 87.585987 \nL 198.747288 80.54036 \nL 199.051956 80.820839 \nL 199.356625 79.070065 \nL 199.661293 74.341227 \nL 199.965961 73.623084 \nL 200.27063 86.56701 \nL 200.575298 86.532675 \nL 200.879966 90.291511 \nL 201.184635 86.888672 \nL 201.489303 89.383639 \nL 201.793971 85.049995 \nL 202.098639 87.45528 \nL 202.403308 88.479045 \nL 203.012644 79.248657 \nL 203.317313 79.303075 \nL 203.621981 74.00009 \nL 203.926649 84.642873 \nL 204.231318 83.473947 \nL 204.535986 87.599456 \nL 204.840654 90.018513 \nL 205.145322 84.377896 \nL 205.449991 89.060294 \nL 205.754659 82.409852 \nL 206.059327 80.043002 \nL 206.363996 84.111258 \nL 206.668664 84.938243 \nL 206.973332 86.434434 \nL 207.278001 81.163056 \nL 207.582669 83.986798 \nL 207.887337 81.370569 \nL 208.192006 80.323751 \nL 208.496674 77.696185 \nL 208.801342 77.567841 \nL 209.10601 80.662794 \nL 209.410679 77.62886 \nL 210.324684 92.672513 \nL 210.629352 86.031398 \nL 210.93402 87.096024 \nL 211.238689 92.65886 \nL 211.543357 83.071007 \nL 211.848025 66.351452 \nL 212.152693 40.220407 \nL 212.457362 36.274179 \nL 212.76203 34.025386 \nL 213.371367 76.146361 \nL 213.980703 91.715762 \nL 214.285372 88.922404 \nL 214.59004 91.517452 \nL 214.894708 89.859292 \nL 215.199377 85.091616 \nL 215.504045 84.682961 \nL 215.808713 73.934225 \nL 216.113381 73.463997 \nL 216.41805 67.541344 \nL 217.636723 91.756971 \nL 218.24606 91.963366 \nL 218.550728 94.115305 \nL 218.855396 91.116298 \nL 219.160064 86.432936 \nL 219.464733 88.217284 \nL 219.769401 87.867251 \nL 220.074069 84.384056 \nL 220.683406 81.903107 \nL 220.988074 78.993421 \nL 221.292743 83.830533 \nL 221.597411 82.368915 \nL 221.902079 87.813498 \nL 222.206748 83.606488 \nL 222.511416 82.457076 \nL 222.816084 80.201174 \nL 223.120752 74.907769 \nL 223.730089 72.667251 \nL 224.034757 70.459868 \nL 224.339426 73.531069 \nL 224.644094 74.193127 \nL 225.253431 83.297887 \nL 226.167436 87.480849 \nL 226.472104 77.133451 \nL 226.776772 73.509611 \nL 227.08144 72.12848 \nL 227.386109 74.470878 \nL 227.690777 75.330454 \nL 227.995445 64.761294 \nL 228.300114 78.665326 \nL 228.604782 77.609861 \nL 228.90945 81.058644 \nL 229.214119 80.235878 \nL 229.518787 86.570952 \nL 230.432792 69.772886 \nL 231.042128 78.455857 \nL 231.346797 79.541141 \nL 231.651465 81.220298 \nL 231.956133 88.20119 \nL 232.260802 87.762631 \nL 232.56547 85.734606 \nL 232.870138 82.184647 \nL 233.174807 83.059878 \nL 233.784143 78.292693 \nL 234.088811 79.041982 \nL 234.39348 75.479134 \nL 234.698148 81.507986 \nL 235.002816 85.332107 \nL 235.307485 86.067862 \nL 235.612153 90.161314 \nL 235.916821 87.258937 \nL 236.22149 88.627095 \nL 236.526158 85.886126 \nL 237.135494 78.674887 \nL 237.440163 75.076467 \nL 237.744831 76.17542 \nL 238.354168 83.129701 \nL 238.658836 83.265347 \nL 238.963504 78.529019 \nL 239.572841 82.153566 \nL 239.877509 82.137454 \nL 240.182178 87.959869 \nL 240.486846 83.405035 \nL 240.791514 81.980012 \nL 241.096182 84.529531 \nL 241.400851 85.820134 \nL 241.705519 90.558425 \nL 242.010187 88.543146 \nL 242.314856 85.761378 \nL 242.619524 80.310213 \nL 242.924192 80.932771 \nL 243.228861 77.684011 \nL 243.533529 81.196707 \nL 243.838197 77.96124 \nL 244.142865 79.458349 \nL 244.752202 68.780216 \nL 245.05687 78.995861 \nL 245.361539 78.243986 \nL 245.666207 86.615824 \nL 245.970875 78.100521 \nL 246.275544 81.580203 \nL 246.580212 77.886832 \nL 246.88488 76.681531 \nL 247.189549 86.83266 \nL 247.494217 86.325142 \nL 247.798885 84.914868 \nL 248.103553 82.463431 \nL 248.408222 82.546085 \nL 248.71289 79.634409 \nL 249.017558 82.538727 \nL 249.322227 83.956998 \nL 249.626895 80.461967 \nL 249.931563 88.365803 \nL 250.236232 83.374562 \nL 250.5409 87.60768 \nL 250.845568 88.499339 \nL 251.150236 85.618024 \nL 251.454905 89.026781 \nL 251.759573 84.445659 \nL 252.064241 83.605289 \nL 252.36891 84.551692 \nL 252.673578 84.873051 \nL 252.978246 82.656077 \nL 253.282915 83.345526 \nL 253.892251 76.399072 \nL 254.19692 76.101831 \nL 254.806256 81.121769 \nL 255.110924 79.840108 \nL 255.415593 77.495996 \nL 255.720261 77.127941 \nL 256.024929 73.858073 \nL 256.329598 56.36902 \nL 256.634266 48.696465 \nL 256.938934 44.134357 \nL 257.548271 68.966713 \nL 257.852939 78.706459 \nL 258.157607 80.989167 \nL 258.462276 87.811995 \nL 258.766944 86.499892 \nL 259.071612 87.85294 \nL 259.376281 90.656358 \nL 259.680949 90.801795 \nL 259.985617 86.301002 \nL 260.290286 86.012388 \nL 260.594954 86.527199 \nL 261.204291 72.70348 \nL 261.813627 86.134046 \nL 262.118295 87.227043 \nL 262.422964 86.756527 \nL 263.336969 91.238156 \nL 263.641637 85.478874 \nL 263.946305 82.993733 \nL 264.250974 82.44074 \nL 264.555642 81.195324 \nL 264.86031 77.3965 \nL 265.164979 78.094422 \nL 265.469647 83.8453 \nL 265.774315 82.977416 \nL 266.078983 78.275032 \nL 266.383652 82.474702 \nL 266.68832 91.964949 \nL 266.992988 87.603084 \nL 267.602325 86.632325 \nL 267.906993 83.550791 \nL 268.211662 84.488594 \nL 268.51633 84.214763 \nL 269.125666 82.286026 \nL 269.430335 88.995712 \nL 269.735003 85.376011 \nL 270.039671 86.717089 \nL 270.34434 85.580576 \nL 270.649008 83.280303 \nL 270.953676 83.145629 \nL 271.258345 77.642567 \nL 271.563013 76.180727 \nL 271.867681 74.13851 \nL 272.17235 74.080392 \nL 272.477018 72.513909 \nL 272.781686 72.812407 \nL 273.086354 77.551428 \nL 273.391023 73.427337 \nL 274.000359 75.686278 \nL 274.305028 82.251903 \nL 274.609696 84.157383 \nL 274.914364 84.417038 \nL 275.219033 83.072655 \nL 275.523701 79.650299 \nL 275.828369 85.944644 \nL 276.133037 82.027459 \nL 276.437706 81.909378 \nL 276.742374 79.188457 \nL 277.351711 62.059459 \nL 277.656379 73.059047 \nL 277.961047 71.859744 \nL 278.265716 76.569118 \nL 278.875052 77.863111 \nL 279.179721 81.700021 \nL 279.484389 89.634706 \nL 279.789057 83.440988 \nL 280.093725 90.754299 \nL 280.398394 87.739121 \nL 280.703062 85.843825 \nL 281.00773 91.259407 \nL 281.312399 87.186594 \nL 281.617067 77.662523 \nL 281.921735 83.604417 \nL 282.226404 73.368562 \nL 282.531072 77.400127 \nL 283.140408 78.924013 \nL 283.445077 79.466557 \nL 284.054413 85.914904 \nL 284.66375 82.514728 \nL 284.968418 83.977249 \nL 285.577755 74.602681 \nL 285.882423 80.588613 \nL 286.187092 82.436513 \nL 286.49176 86.717339 \nL 286.796428 88.14245 \nL 287.101096 88.465031 \nL 287.710433 76.453221 \nL 288.31977 61.714556 \nL 288.624438 64.342298 \nL 288.929106 61.229534 \nL 289.538443 66.415311 \nL 289.843111 78.506332 \nL 290.147779 84.975015 \nL 290.452448 88.408988 \nL 291.061784 89.62385 \nL 291.366453 86.785348 \nL 291.671121 82.902828 \nL 291.975789 82.462721 \nL 292.280458 76.367615 \nL 292.889794 69.854425 \nL 293.194463 73.900539 \nL 293.499131 74.421064 \nL 293.803799 82.850059 \nL 294.108467 82.969908 \nL 294.413136 90.788922 \nL 294.717804 89.029167 \nL 295.022472 84.986078 \nL 295.327141 87.188834 \nL 295.631809 90.563552 \nL 295.936477 90.226023 \nL 296.545814 76.226344 \nL 296.850482 75.415644 \nL 297.15515 77.112339 \nL 297.459819 70.045165 \nL 297.764487 69.769201 \nL 298.069155 74.50411 \nL 298.373824 70.579359 \nL 298.678492 74.689516 \nL 299.287829 78.98713 \nL 299.897165 83.785415 \nL 300.201834 75.397787 \nL 300.506502 82.583744 \nL 300.81117 81.034762 \nL 301.115838 81.852378 \nL 301.420507 81.7235 \nL 301.725175 85.663626 \nL 302.029843 85.261762 \nL 302.334512 81.309242 \nL 302.63918 79.911222 \nL 302.943848 74.705625 \nL 303.248517 67.314436 \nL 303.553185 69.846851 \nL 303.857853 66.548997 \nL 304.162521 67.153217 \nL 304.771858 83.598149 \nL 305.076526 81.336134 \nL 305.381195 85.619235 \nL 305.990531 82.284674 \nL 306.2952 75.568836 \nL 306.599868 77.386359 \nL 306.904536 70.537669 \nL 307.209205 72.577768 \nL 307.513873 70.868899 \nL 307.818541 73.68099 \nL 308.123209 73.449856 \nL 308.427878 86.960174 \nL 308.732546 83.058764 \nL 309.037214 83.376207 \nL 309.341883 87.535916 \nL 309.646551 89.57869 \nL 309.951219 79.403843 \nL 310.255888 81.510127 \nL 310.560556 79.978336 \nL 310.865224 65.469738 \nL 311.474561 72.983583 \nL 311.779229 73.636218 \nL 312.083897 69.242873 \nL 312.388566 80.026682 \nL 312.693234 82.99243 \nL 312.997902 88.30048 \nL 313.302571 84.233604 \nL 313.607239 89.991191 \nL 313.911907 83.27269 \nL 314.216576 86.866618 \nL 314.521244 84.267289 \nL 315.435249 66.669748 \nL 315.739917 63.596276 \nL 316.044585 66.851983 \nL 316.349254 67.411866 \nL 316.653922 70.523593 \nL 316.95859 77.77965 \nL 317.263259 82.249294 \nL 317.872595 86.435537 \nL 318.177264 86.717961 \nL 318.481932 85.150933 \nL 318.7866 87.021708 \nL 319.395937 73.559771 \nL 320.005273 63.631141 \nL 320.309942 64.925971 \nL 320.61461 60.717532 \nL 320.919278 71.219321 \nL 321.223947 76.112525 \nL 321.528615 74.210592 \nL 321.833283 75.471199 \nL 322.137951 75.266983 \nL 322.44262 80.352287 \nL 322.747288 72.236546 \nL 323.051956 71.73925 \nL 323.356625 72.886004 \nL 323.661293 76.122705 \nL 323.965961 76.738999 \nL 324.27063 74.66594 \nL 324.575298 79.40754 \nL 324.879966 70.402722 \nL 325.184635 74.216906 \nL 325.489303 74.07721 \nL 326.098639 73.163355 \nL 326.403308 70.479866 \nL 326.707976 77.986083 \nL 327.317313 84.004844 \nL 327.621981 72.343675 \nL 327.926649 71.60015 \nL 328.231318 63.133062 \nL 328.535986 66.598415 \nL 328.840654 67.961043 \nL 329.145322 73.276017 \nL 329.449991 66.568387 \nL 329.754659 75.983389 \nL 330.059327 66.763008 \nL 330.363996 71.533182 \nL 330.668664 78.361529 \nL 330.973332 81.825064 \nL 331.278001 82.446154 \nL 331.582669 86.798286 \nL 331.887337 83.728377 \nL 332.192006 83.487093 \nL 332.496674 84.576409 \nL 332.801342 82.471574 \nL 333.10601 84.608173 \nL 333.410679 83.776426 \nL 333.715347 86.465941 \nL 334.020015 81.981941 \nL 334.324684 80.550009 \nL 334.629352 83.612237 \nL 334.93402 83.521832 \nL 335.238689 81.667138 \nL 335.543357 82.016564 \nL 335.848025 79.775008 \nL 336.152693 75.686263 \nL 336.457362 73.599885 \nL 336.76203 78.918314 \nL 337.066698 81.878782 \nL 337.371367 82.973689 \nL 337.676035 81.214714 \nL 337.980703 84.64984 \nL 338.285372 81.875735 \nL 338.59004 80.427544 \nL 338.894708 77.473067 \nL 339.199377 75.653834 \nL 339.504045 70.74316 \nL 339.808713 72.488574 \nL 340.113381 67.698943 \nL 340.41805 59.802778 \nL 340.722718 66.717682 \nL 341.027386 69.800665 \nL 341.332055 69.291926 \nL 341.636723 77.073515 \nL 341.941391 74.961541 \nL 342.24606 78.792833 \nL 342.550728 74.230509 \nL 342.855396 82.185742 \nL 343.160064 80.871137 \nL 343.464733 77.297337 \nL 343.769401 77.779961 \nL 344.074069 65.062605 \nL 344.378738 61.759774 \nL 344.683406 66.404578 \nL 344.988074 61.055372 \nL 345.292743 68.632911 \nL 345.597411 69.164965 \nL 345.902079 66.340415 \nL 346.206748 74.901037 \nL 346.511416 72.287382 \nL 346.816084 78.316541 \nL 347.120752 81.3619 \nL 347.425421 81.002167 \nL 347.730089 83.677118 \nL 348.034757 80.362255 \nL 348.339426 79.559383 \nL 348.644094 77.943336 \nL 348.948762 75.491104 \nL 349.253431 77.864859 \nL 349.558099 78.886638 \nL 349.862767 76.88102 \nL 350.167436 76.735064 \nL 350.472104 80.243095 \nL 350.776772 79.198751 \nL 351.08144 73.854115 \nL 351.386109 80.214616 \nL 351.690777 82.213552 \nL 352.604782 73.242039 \nL 352.90945 68.145073 \nL 353.214119 71.360842 \nL 353.518787 70.80006 \nL 353.823455 76.983176 \nL 354.128123 73.088029 \nL 354.73746 86.855574 \nL 355.042128 86.45452 \nL 355.651465 81.315433 \nL 356.260802 84.933709 \nL 356.870138 75.772614 \nL 357.174807 68.36637 \nL 357.479475 67.890178 \nL 357.784143 59.659896 \nL 358.39348 66.150391 \nL 358.698148 64.318765 \nL 359.002816 65.469138 \nL 359.307485 75.66225 \nL 359.612153 72.296708 \nL 360.22149 77.767211 \nL 360.526158 73.092156 \nL 360.830826 77.172862 \nL 361.135494 77.215152 \nL 361.440163 75.139911 \nL 361.744831 70.314104 \nL 362.354168 77.04622 \nL 362.658836 78.244624 \nL 363.268173 82.213752 \nL 363.877509 72.773522 \nL 364.182178 62.197833 \nL 364.486846 65.016876 \nL 364.791514 72.848713 \nL 365.096182 65.588064 \nL 365.400851 76.388551 \nL 365.705519 78.508537 \nL 366.010187 77.968795 \nL 366.314856 79.757816 \nL 366.619524 83.774455 \nL 366.924192 76.443902 \nL 367.228861 78.960623 \nL 367.533529 73.499889 \nL 367.838197 63.262432 \nL 368.447534 63.959532 \nL 368.752202 63.96603 \nL 369.05687 65.211758 \nL 369.361539 69.586996 \nL 369.666207 65.447196 \nL 370.275544 78.944549 \nL 370.580212 74.026286 \nL 370.88488 74.488416 \nL 371.189549 78.980967 \nL 371.494217 77.822416 \nL 371.798885 78.607723 \nL 372.103553 81.090551 \nL 372.408222 79.291216 \nL 372.71289 84.245847 \nL 373.017558 81.232191 \nL 373.322227 79.711299 \nL 373.626895 72.989163 \nL 374.236232 79.444162 \nL 374.5409 81.585257 \nL 374.845568 84.818084 \nL 374.845568 84.818084 \n\" style=\"fill:none;stroke:#348abd;stroke-linecap:square;stroke-opacity:0.7;stroke-width:2;\"/>\n   </g>\n   <g id=\"patch_3\">\n    <path d=\"M 55.26375 241.58175 \nL 55.26375 24.14175 \n\" style=\"fill:none;stroke:#ffffff;stroke-linecap:square;stroke-linejoin:miter;\"/>\n   </g>\n   <g id=\"patch_4\">\n    <path d=\"M 390.06375 241.58175 \nL 390.06375 24.14175 \n\" style=\"fill:none;stroke:#ffffff;stroke-linecap:square;stroke-linejoin:miter;\"/>\n   </g>\n   <g id=\"patch_5\">\n    <path d=\"M 55.26375 241.58175 \nL 390.06375 241.58175 \n\" style=\"fill:none;stroke:#ffffff;stroke-linecap:square;stroke-linejoin:miter;\"/>\n   </g>\n   <g id=\"patch_6\">\n    <path d=\"M 55.26375 24.14175 \nL 390.06375 24.14175 \n\" style=\"fill:none;stroke:#ffffff;stroke-linecap:square;stroke-linejoin:miter;\"/>\n   </g>\n   <g id=\"text_18\">\n    <!-- VAE Font Training -->\n    <defs>\n     <path d=\"M 28.609375 0 \nL 0.78125 72.90625 \nL 11.078125 72.90625 \nL 34.1875 11.53125 \nL 57.328125 72.90625 \nL 67.578125 72.90625 \nL 39.796875 0 \nz\n\" id=\"DejaVuSans-86\"/>\n     <path d=\"M 34.1875 63.1875 \nL 20.796875 26.90625 \nL 47.609375 26.90625 \nz\nM 28.609375 72.90625 \nL 39.796875 72.90625 \nL 67.578125 0 \nL 57.328125 0 \nL 50.6875 18.703125 \nL 17.828125 18.703125 \nL 11.1875 0 \nL 0.78125 0 \nz\n\" id=\"DejaVuSans-65\"/>\n     <path id=\"DejaVuSans-32\"/>\n     <path d=\"M 9.8125 72.90625 \nL 51.703125 72.90625 \nL 51.703125 64.59375 \nL 19.671875 64.59375 \nL 19.671875 43.109375 \nL 48.578125 43.109375 \nL 48.578125 34.8125 \nL 19.671875 34.8125 \nL 19.671875 0 \nL 9.8125 0 \nz\n\" id=\"DejaVuSans-70\"/>\n     <path d=\"M 54.890625 33.015625 \nL 54.890625 0 \nL 45.90625 0 \nL 45.90625 32.71875 \nQ 45.90625 40.484375 42.875 44.328125 \nQ 39.84375 48.1875 33.796875 48.1875 \nQ 26.515625 48.1875 22.3125 43.546875 \nQ 18.109375 38.921875 18.109375 30.90625 \nL 18.109375 0 \nL 9.078125 0 \nL 9.078125 54.6875 \nL 18.109375 54.6875 \nL 18.109375 46.1875 \nQ 21.34375 51.125 25.703125 53.5625 \nQ 30.078125 56 35.796875 56 \nQ 45.21875 56 50.046875 50.171875 \nQ 54.890625 44.34375 54.890625 33.015625 \nz\n\" id=\"DejaVuSans-110\"/>\n     <path d=\"M 18.3125 70.21875 \nL 18.3125 54.6875 \nL 36.8125 54.6875 \nL 36.8125 47.703125 \nL 18.3125 47.703125 \nL 18.3125 18.015625 \nQ 18.3125 11.328125 20.140625 9.421875 \nQ 21.96875 7.515625 27.59375 7.515625 \nL 36.8125 7.515625 \nL 36.8125 0 \nL 27.59375 0 \nQ 17.1875 0 13.234375 3.875 \nQ 9.28125 7.765625 9.28125 18.015625 \nL 9.28125 47.703125 \nL 2.6875 47.703125 \nL 2.6875 54.6875 \nL 9.28125 54.6875 \nL 9.28125 70.21875 \nz\n\" id=\"DejaVuSans-116\"/>\n     <path d=\"M -0.296875 72.90625 \nL 61.375 72.90625 \nL 61.375 64.59375 \nL 35.5 64.59375 \nL 35.5 0 \nL 25.59375 0 \nL 25.59375 64.59375 \nL -0.296875 64.59375 \nz\n\" id=\"DejaVuSans-84\"/>\n     <path d=\"M 41.109375 46.296875 \nQ 39.59375 47.171875 37.8125 47.578125 \nQ 36.03125 48 33.890625 48 \nQ 26.265625 48 22.1875 43.046875 \nQ 18.109375 38.09375 18.109375 28.8125 \nL 18.109375 0 \nL 9.078125 0 \nL 9.078125 54.6875 \nL 18.109375 54.6875 \nL 18.109375 46.1875 \nQ 20.953125 51.171875 25.484375 53.578125 \nQ 30.03125 56 36.53125 56 \nQ 37.453125 56 38.578125 55.875 \nQ 39.703125 55.765625 41.0625 55.515625 \nz\n\" id=\"DejaVuSans-114\"/>\n     <path d=\"M 34.28125 27.484375 \nQ 23.390625 27.484375 19.1875 25 \nQ 14.984375 22.515625 14.984375 16.5 \nQ 14.984375 11.71875 18.140625 8.90625 \nQ 21.296875 6.109375 26.703125 6.109375 \nQ 34.1875 6.109375 38.703125 11.40625 \nQ 43.21875 16.703125 43.21875 25.484375 \nL 43.21875 27.484375 \nz\nM 52.203125 31.203125 \nL 52.203125 0 \nL 43.21875 0 \nL 43.21875 8.296875 \nQ 40.140625 3.328125 35.546875 0.953125 \nQ 30.953125 -1.421875 24.3125 -1.421875 \nQ 15.921875 -1.421875 10.953125 3.296875 \nQ 6 8.015625 6 15.921875 \nQ 6 25.140625 12.171875 29.828125 \nQ 18.359375 34.515625 30.609375 34.515625 \nL 43.21875 34.515625 \nL 43.21875 35.40625 \nQ 43.21875 41.609375 39.140625 45 \nQ 35.0625 48.390625 27.6875 48.390625 \nQ 23 48.390625 18.546875 47.265625 \nQ 14.109375 46.140625 10.015625 43.890625 \nL 10.015625 52.203125 \nQ 14.9375 54.109375 19.578125 55.046875 \nQ 24.21875 56 28.609375 56 \nQ 40.484375 56 46.34375 49.84375 \nQ 52.203125 43.703125 52.203125 31.203125 \nz\n\" id=\"DejaVuSans-97\"/>\n     <path d=\"M 9.421875 54.6875 \nL 18.40625 54.6875 \nL 18.40625 0 \nL 9.421875 0 \nz\nM 9.421875 75.984375 \nL 18.40625 75.984375 \nL 18.40625 64.59375 \nL 9.421875 64.59375 \nz\n\" id=\"DejaVuSans-105\"/>\n     <path d=\"M 45.40625 27.984375 \nQ 45.40625 37.75 41.375 43.109375 \nQ 37.359375 48.484375 30.078125 48.484375 \nQ 22.859375 48.484375 18.828125 43.109375 \nQ 14.796875 37.75 14.796875 27.984375 \nQ 14.796875 18.265625 18.828125 12.890625 \nQ 22.859375 7.515625 30.078125 7.515625 \nQ 37.359375 7.515625 41.375 12.890625 \nQ 45.40625 18.265625 45.40625 27.984375 \nz\nM 54.390625 6.78125 \nQ 54.390625 -7.171875 48.1875 -13.984375 \nQ 42 -20.796875 29.203125 -20.796875 \nQ 24.46875 -20.796875 20.265625 -20.09375 \nQ 16.0625 -19.390625 12.109375 -17.921875 \nL 12.109375 -9.1875 \nQ 16.0625 -11.328125 19.921875 -12.34375 \nQ 23.78125 -13.375 27.78125 -13.375 \nQ 36.625 -13.375 41.015625 -8.765625 \nQ 45.40625 -4.15625 45.40625 5.171875 \nL 45.40625 9.625 \nQ 42.625 4.78125 38.28125 2.390625 \nQ 33.9375 0 27.875 0 \nQ 17.828125 0 11.671875 7.65625 \nQ 5.515625 15.328125 5.515625 27.984375 \nQ 5.515625 40.671875 11.671875 48.328125 \nQ 17.828125 56 27.875 56 \nQ 33.9375 56 38.28125 53.609375 \nQ 42.625 51.21875 45.40625 46.390625 \nL 45.40625 54.6875 \nL 54.390625 54.6875 \nz\n\" id=\"DejaVuSans-103\"/>\n    </defs>\n    <g transform=\"translate(160.069875 18.14175)scale(0.144 -0.144)\">\n     <use xlink:href=\"#DejaVuSans-86\"/>\n     <use x=\"62.033203\" xlink:href=\"#DejaVuSans-65\"/>\n     <use x=\"130.441406\" xlink:href=\"#DejaVuSans-69\"/>\n     <use x=\"193.625\" xlink:href=\"#DejaVuSans-32\"/>\n     <use x=\"225.412109\" xlink:href=\"#DejaVuSans-70\"/>\n     <use x=\"279.306641\" xlink:href=\"#DejaVuSans-111\"/>\n     <use x=\"340.488281\" xlink:href=\"#DejaVuSans-110\"/>\n     <use x=\"403.867188\" xlink:href=\"#DejaVuSans-116\"/>\n     <use x=\"443.076172\" xlink:href=\"#DejaVuSans-32\"/>\n     <use x=\"474.863281\" xlink:href=\"#DejaVuSans-84\"/>\n     <use x=\"521.197266\" xlink:href=\"#DejaVuSans-114\"/>\n     <use x=\"562.310547\" xlink:href=\"#DejaVuSans-97\"/>\n     <use x=\"623.589844\" xlink:href=\"#DejaVuSans-105\"/>\n     <use x=\"651.373047\" xlink:href=\"#DejaVuSans-110\"/>\n     <use x=\"714.751953\" xlink:href=\"#DejaVuSans-105\"/>\n     <use x=\"742.535156\" xlink:href=\"#DejaVuSans-110\"/>\n     <use x=\"805.914062\" xlink:href=\"#DejaVuSans-103\"/>\n    </g>\n   </g>\n   <g id=\"legend_1\">\n    <g id=\"patch_7\">\n     <path d=\"M 62.26375 61.498 \nL 180.12 61.498 \nQ 182.12 61.498 182.12 59.498 \nL 182.12 31.14175 \nQ 182.12 29.14175 180.12 29.14175 \nL 62.26375 29.14175 \nQ 60.26375 29.14175 60.26375 31.14175 \nL 60.26375 59.498 \nQ 60.26375 61.498 62.26375 61.498 \nz\n\" style=\"fill:#e5e5e5;opacity:0.8;stroke:#cccccc;stroke-linejoin:miter;stroke-width:0.5;\"/>\n    </g>\n    <g id=\"line2d_33\">\n     <path d=\"M 64.26375 37.240187 \nL 84.26375 37.240187 \n\" style=\"fill:none;stroke:#e24a33;stroke-linecap:square;stroke-opacity:0.7;stroke-width:2;\"/>\n    </g>\n    <g id=\"line2d_34\"/>\n    <g id=\"text_19\">\n     <!-- Trainig Losses -->\n     <defs>\n      <path d=\"M 56.203125 29.59375 \nL 56.203125 25.203125 \nL 14.890625 25.203125 \nQ 15.484375 15.921875 20.484375 11.0625 \nQ 25.484375 6.203125 34.421875 6.203125 \nQ 39.59375 6.203125 44.453125 7.46875 \nQ 49.3125 8.734375 54.109375 11.28125 \nL 54.109375 2.78125 \nQ 49.265625 0.734375 44.1875 -0.34375 \nQ 39.109375 -1.421875 33.890625 -1.421875 \nQ 20.796875 -1.421875 13.15625 6.1875 \nQ 5.515625 13.8125 5.515625 26.8125 \nQ 5.515625 40.234375 12.765625 48.109375 \nQ 20.015625 56 32.328125 56 \nQ 43.359375 56 49.78125 48.890625 \nQ 56.203125 41.796875 56.203125 29.59375 \nz\nM 47.21875 32.234375 \nQ 47.125 39.59375 43.09375 43.984375 \nQ 39.0625 48.390625 32.421875 48.390625 \nQ 24.90625 48.390625 20.390625 44.140625 \nQ 15.875 39.890625 15.1875 32.171875 \nz\n\" id=\"DejaVuSans-101\"/>\n     </defs>\n     <g transform=\"translate(92.26375 40.740187)scale(0.1 -0.1)\">\n      <use xlink:href=\"#DejaVuSans-84\"/>\n      <use x=\"46.333984\" xlink:href=\"#DejaVuSans-114\"/>\n      <use x=\"87.447266\" xlink:href=\"#DejaVuSans-97\"/>\n      <use x=\"148.726562\" xlink:href=\"#DejaVuSans-105\"/>\n      <use x=\"176.509766\" xlink:href=\"#DejaVuSans-110\"/>\n      <use x=\"239.888672\" xlink:href=\"#DejaVuSans-105\"/>\n      <use x=\"267.671875\" xlink:href=\"#DejaVuSans-103\"/>\n      <use x=\"331.148438\" xlink:href=\"#DejaVuSans-32\"/>\n      <use x=\"362.935547\" xlink:href=\"#DejaVuSans-76\"/>\n      <use x=\"416.898438\" xlink:href=\"#DejaVuSans-111\"/>\n      <use x=\"478.080078\" xlink:href=\"#DejaVuSans-115\"/>\n      <use x=\"530.179688\" xlink:href=\"#DejaVuSans-115\"/>\n      <use x=\"582.279297\" xlink:href=\"#DejaVuSans-101\"/>\n      <use x=\"643.802734\" xlink:href=\"#DejaVuSans-115\"/>\n     </g>\n    </g>\n    <g id=\"line2d_35\">\n     <path d=\"M 64.26375 51.918312 \nL 84.26375 51.918312 \n\" style=\"fill:none;stroke:#348abd;stroke-linecap:square;stroke-opacity:0.7;stroke-width:2;\"/>\n    </g>\n    <g id=\"line2d_36\"/>\n    <g id=\"text_20\">\n     <!-- Validation Losses -->\n     <defs>\n      <path d=\"M 9.421875 75.984375 \nL 18.40625 75.984375 \nL 18.40625 0 \nL 9.421875 0 \nz\n\" id=\"DejaVuSans-108\"/>\n      <path d=\"M 45.40625 46.390625 \nL 45.40625 75.984375 \nL 54.390625 75.984375 \nL 54.390625 0 \nL 45.40625 0 \nL 45.40625 8.203125 \nQ 42.578125 3.328125 38.25 0.953125 \nQ 33.9375 -1.421875 27.875 -1.421875 \nQ 17.96875 -1.421875 11.734375 6.484375 \nQ 5.515625 14.40625 5.515625 27.296875 \nQ 5.515625 40.1875 11.734375 48.09375 \nQ 17.96875 56 27.875 56 \nQ 33.9375 56 38.25 53.625 \nQ 42.578125 51.265625 45.40625 46.390625 \nz\nM 14.796875 27.296875 \nQ 14.796875 17.390625 18.875 11.75 \nQ 22.953125 6.109375 30.078125 6.109375 \nQ 37.203125 6.109375 41.296875 11.75 \nQ 45.40625 17.390625 45.40625 27.296875 \nQ 45.40625 37.203125 41.296875 42.84375 \nQ 37.203125 48.484375 30.078125 48.484375 \nQ 22.953125 48.484375 18.875 42.84375 \nQ 14.796875 37.203125 14.796875 27.296875 \nz\n\" id=\"DejaVuSans-100\"/>\n     </defs>\n     <g transform=\"translate(92.26375 55.418312)scale(0.1 -0.1)\">\n      <use xlink:href=\"#DejaVuSans-86\"/>\n      <use x=\"60.658203\" xlink:href=\"#DejaVuSans-97\"/>\n      <use x=\"121.9375\" xlink:href=\"#DejaVuSans-108\"/>\n      <use x=\"149.720703\" xlink:href=\"#DejaVuSans-105\"/>\n      <use x=\"177.503906\" xlink:href=\"#DejaVuSans-100\"/>\n      <use x=\"240.980469\" xlink:href=\"#DejaVuSans-97\"/>\n      <use x=\"302.259766\" xlink:href=\"#DejaVuSans-116\"/>\n      <use x=\"341.46875\" xlink:href=\"#DejaVuSans-105\"/>\n      <use x=\"369.251953\" xlink:href=\"#DejaVuSans-111\"/>\n      <use x=\"430.433594\" xlink:href=\"#DejaVuSans-110\"/>\n      <use x=\"493.8125\" xlink:href=\"#DejaVuSans-32\"/>\n      <use x=\"525.599609\" xlink:href=\"#DejaVuSans-76\"/>\n      <use x=\"579.5625\" xlink:href=\"#DejaVuSans-111\"/>\n      <use x=\"640.744141\" xlink:href=\"#DejaVuSans-115\"/>\n      <use x=\"692.84375\" xlink:href=\"#DejaVuSans-115\"/>\n      <use x=\"744.943359\" xlink:href=\"#DejaVuSans-101\"/>\n      <use x=\"806.466797\" xlink:href=\"#DejaVuSans-115\"/>\n     </g>\n    </g>\n   </g>\n  </g>\n </g>\n <defs>\n  <clipPath id=\"pd360fdb3c1\">\n   <rect height=\"217.44\" width=\"334.8\" x=\"55.26375\" y=\"24.14175\"/>\n  </clipPath>\n </defs>\n</svg>\n"
          },
          "metadata": {
            "tags": []
          }
        }
      ]
    },
    {
      "cell_type": "code",
      "metadata": {
        "id": "s_dH4IwFpRQV"
      },
      "source": [
        "model.load_state_dict(\n",
        "    torch.load('.model'),\n",
        ")\n"
      ],
      "execution_count": null,
      "outputs": []
    }
  ]
}